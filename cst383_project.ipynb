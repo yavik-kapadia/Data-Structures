{
  "cells": [
    {
      "cell_type": "markdown",
      "metadata": {
        "id": "view-in-github",
        "colab_type": "text"
      },
      "source": [
        "<a href=\"https://colab.research.google.com/github/yavik-kapadia/Data-Structures/blob/master/cst383_project.ipynb\" target=\"_parent\"><img src=\"https://colab.research.google.com/assets/colab-badge.svg\" alt=\"Open In Colab\"/></a>"
      ]
    },
    {
      "cell_type": "code",
      "execution_count": null,
      "metadata": {
        "id": "hxzq6q9mcQTD"
      },
      "outputs": [],
      "source": [
        "import numpy as np\n",
        "import pandas as pd\n",
        "import matplotlib.pyplot as plt\n",
        "import seaborn as sns\n",
        "import graphviz\n",
        "from sklearn.model_selection import train_test_split, cross_val_score, learning_curve\n",
        "from sklearn.preprocessing import StandardScaler\n",
        "from sklearn import preprocessing\n",
        "from sklearn.neighbors import KNeighborsClassifier\n",
        "from sklearn.tree import DecisionTreeClassifier\n",
        "from sklearn.datasets import make_classification\n",
        "from sklearn.cluster import KMeans\n",
        "from graphviz import Source\n",
        "from sklearn import preprocessing\n",
        "from sklearn.tree import export_graphviz\n",
        "from sklearn.metrics import confusion_matrix, accuracy_score, precision_score, recall_score\n",
        "from sklearn.pipeline import Pipeline, make_pipeline\n",
        "from sklearn.svm import SVC\n"
      ]
    },
    {
      "cell_type": "code",
      "execution_count": null,
      "metadata": {
        "id": "uk34kIGjqiQ_"
      },
      "outputs": [],
      "source": [
        "df = pd.read_csv('https://stacks.stanford.edu/file/druid:yg821jf8611/yg821jf8611_ca_san_francisco_2020_04_01.csv.zip',compression='zip', low_memory=False)"
      ]
    },
    {
      "cell_type": "markdown",
      "metadata": {
        "id": "LW-wnSnJn914"
      },
      "source": [
        "# **Traffic Stop Victim Prediction**"
      ]
    },
    {
      "cell_type": "markdown",
      "metadata": {
        "id": "WotELDzadG5d"
      },
      "source": [
        "Team:\n",
        "\n",
        "\n",
        "1) lgallez@csumb.edu\n",
        "\n",
        "2) smendozaloera@csumb.edu\t\n",
        "\n",
        "3) ykapadia@csumb.edu\t"
      ]
    },
    {
      "cell_type": "markdown",
      "metadata": {
        "id": "IK7wA2uknopq"
      },
      "source": [
        "#Introduction\n",
        "\n",
        "\n",
        "According to data from the Stanford Open Policing Project, law enforcement officers in the United States perform around 50,000 traffic stops every day. The project has collected traffic stop data from 40 different states, including the city of San Francisco,  CA, which is the focus of our project. \n"
      ]
    },
    {
      "cell_type": "markdown",
      "metadata": {
        "id": "eWUUtxuuq7tL"
      },
      "source": [
        "#Objective\n",
        "\n",
        "\n",
        "Previous research has found that racial profiling and bias may play a role in who gets pulled over. Our project aims to predict the race of individuals who were stopped for traffic violations based on the outcome of the traffic stop and subject age.\n"
      ]
    },
    {
      "cell_type": "markdown",
      "metadata": {
        "id": "mutIOclqcl1f"
      },
      "source": [
        "#Methods\n",
        "\n",
        "\n",
        "San Francisco Data Set (zip file): https://stacks.stanford.edu/file/druid:yg821jf8611/yg821jf8611_ca_san_francisco_2020_04_01.csv.zip\n",
        "\n",
        "Stanford Digital Repository: https://purl.stanford.edu/yg821jf8611\n",
        "\n",
        "\n",
        "Target:\n",
        "*   race\n",
        "\n",
        "\n",
        "\n",
        "Predictors:\n",
        "\n",
        "\n",
        "*   outcome\n",
        "*   subject_age\n",
        "\n",
        "Data analysis and visualization: \n",
        "* Numpy, Pandas, Matplotlib, and Seaborn \n",
        "\n",
        "Scikit-learn \n",
        "\n",
        "Models: \n",
        "* kNN Classification \n",
        "* Decision Tree Classification\n",
        "* Non-Linear SVC Classification\n",
        "\n",
        "Features: \n",
        "* StandardScaler\n",
        "* LabelEncoder\n",
        "\n",
        "\n",
        "\n",
        "\n",
        "\n"
      ]
    },
    {
      "cell_type": "markdown",
      "metadata": {
        "id": "6CI7SI3GK0pg"
      },
      "source": [
        "#Data Exploration\n",
        "\n",
        "The San Francisco Police Traffic Stop data contains has 905070 entries from 2008-2014. The data set includes 22 features. Some of these features are: Date, Time, Location, Latitude, Longitude, District, Age, Race, Sex, Outcome, Warning Issued. For the purpose of our objective, we have decided to drop variables that were not relevant to our project. \n"
      ]
    },
    {
      "cell_type": "code",
      "execution_count": null,
      "metadata": {
        "colab": {
          "base_uri": "https://localhost:8080/"
        },
        "id": "YTkuhZGqsUa-",
        "outputId": "dfe1c226-1815-411f-b4ae-43eeec6c685c",
        "collapsed": true
      },
      "outputs": [
        {
          "output_type": "stream",
          "name": "stdout",
          "text": [
            "<class 'pandas.core.frame.DataFrame'>\n",
            "RangeIndex: 905070 entries, 0 to 905069\n",
            "Data columns (total 22 columns):\n",
            " #   Column                             Non-Null Count   Dtype  \n",
            "---  ------                             --------------   -----  \n",
            " 0   raw_row_number                     905070 non-null  object \n",
            " 1   date                               905070 non-null  object \n",
            " 2   time                               905035 non-null  object \n",
            " 3   location                           905027 non-null  object \n",
            " 4   lat                                903373 non-null  float64\n",
            " 5   lng                                903373 non-null  float64\n",
            " 6   district                           852883 non-null  object \n",
            " 7   subject_age                        846182 non-null  float64\n",
            " 8   subject_race                       905070 non-null  object \n",
            " 9   subject_sex                        905070 non-null  object \n",
            " 10  type                               905070 non-null  object \n",
            " 11  arrest_made                        905070 non-null  bool   \n",
            " 12  citation_issued                    905070 non-null  bool   \n",
            " 13  warning_issued                     905070 non-null  bool   \n",
            " 14  outcome                            889389 non-null  object \n",
            " 15  contraband_found                   53381 non-null   object \n",
            " 16  search_conducted                   905070 non-null  bool   \n",
            " 17  search_vehicle                     905070 non-null  bool   \n",
            " 18  search_basis                       53381 non-null   object \n",
            " 19  reason_for_stop                    902858 non-null  object \n",
            " 20  raw_search_vehicle_description     905070 non-null  object \n",
            " 21  raw_result_of_contact_description  905070 non-null  object \n",
            "dtypes: bool(5), float64(3), object(14)\n",
            "memory usage: 121.7+ MB\n"
          ]
        }
      ],
      "source": [
        "df.info()"
      ]
    },
    {
      "cell_type": "markdown",
      "metadata": {
        "id": "yVKiFYZfjEmA"
      },
      "source": [
        "In our initial data exploration, we see that there are a total of 22 columns and 905070 rows. Not all features share the same Dtype. The three dtype features we see are: bool, float64, and object\n"
      ]
    },
    {
      "cell_type": "code",
      "execution_count": null,
      "metadata": {
        "colab": {
          "base_uri": "https://localhost:8080/"
        },
        "id": "tUpJsq6EkU0f",
        "outputId": "ebdbbcd7-ef8c-41dc-ce3b-efc2e21ec4e3"
      },
      "outputs": [
        {
          "output_type": "execute_result",
          "data": {
            "text/plain": [
              "Index(['raw_row_number', 'date', 'time', 'location', 'district',\n",
              "       'subject_race', 'subject_sex', 'type', 'arrest_made', 'citation_issued',\n",
              "       'warning_issued', 'outcome', 'contraband_found', 'search_conducted',\n",
              "       'search_vehicle', 'search_basis', 'reason_for_stop',\n",
              "       'raw_search_vehicle_description', 'raw_result_of_contact_description'],\n",
              "      dtype='object')"
            ]
          },
          "metadata": {},
          "execution_count": 322
        }
      ],
      "source": [
        "not_nums = df.select_dtypes(exclude='number')\n",
        "not_nums.columns"
      ]
    },
    {
      "cell_type": "markdown",
      "metadata": {
        "id": "pj38Gd3_lPVF"
      },
      "source": [
        "There are 19 non-numerical features in this dataset. "
      ]
    },
    {
      "cell_type": "code",
      "execution_count": null,
      "metadata": {
        "colab": {
          "base_uri": "https://localhost:8080/"
        },
        "id": "QZZ6lwRfla__",
        "outputId": "184d24e2-4aaf-4953-d16c-a72cdfbfa969",
        "collapsed": true
      },
      "outputs": [
        {
          "output_type": "execute_result",
          "data": {
            "text/plain": [
              "raw_row_number                       0.000000\n",
              "date                                 0.000000\n",
              "time                                 0.000039\n",
              "location                             0.000048\n",
              "lat                                  0.001875\n",
              "lng                                  0.001875\n",
              "district                             0.057661\n",
              "subject_age                          0.065065\n",
              "subject_race                         0.000000\n",
              "subject_sex                          0.000000\n",
              "type                                 0.000000\n",
              "arrest_made                          0.000000\n",
              "citation_issued                      0.000000\n",
              "warning_issued                       0.000000\n",
              "outcome                              0.017326\n",
              "contraband_found                     0.941020\n",
              "search_conducted                     0.000000\n",
              "search_vehicle                       0.000000\n",
              "search_basis                         0.941020\n",
              "reason_for_stop                      0.002444\n",
              "raw_search_vehicle_description       0.000000\n",
              "raw_result_of_contact_description    0.000000\n",
              "dtype: float64"
            ]
          },
          "metadata": {},
          "execution_count": 323
        }
      ],
      "source": [
        "df.isna().mean()"
      ]
    },
    {
      "cell_type": "markdown",
      "metadata": {
        "id": "DKm-ZatUms2A"
      },
      "source": [
        "Above we see the fraction of NA values per column. Contraband_found and search_basis being the highest. \n"
      ]
    },
    {
      "cell_type": "code",
      "execution_count": null,
      "metadata": {
        "colab": {
          "base_uri": "https://localhost:8080/",
          "height": 490
        },
        "id": "8uRZrVDvnIOW",
        "outputId": "2482bcd5-9b52-4818-de69-5f746de828f1"
      },
      "outputs": [
        {
          "output_type": "stream",
          "name": "stdout",
          "text": [
            "Approximately 1835818 rows contain NA values.\n"
          ]
        },
        {
          "output_type": "execute_result",
          "data": {
            "text/plain": [
              "  raw_row_number        date      time                   location        lat  \\\n",
              "0         869921  2014-08-01  00:01:00       MASONIC AV & FELL ST  37.773004   \n",
              "1         869922  2014-08-01  00:01:00              GEARY&10TH AV  37.780898   \n",
              "2         869923  2014-08-01  00:15:00        SUTTER N OCTAVIA ST  37.786919   \n",
              "3         869924  2014-08-01  00:18:00          3RD ST & DAVIDSON  37.746380   \n",
              "4         869925  2014-08-01  00:19:00  DIVISADERO ST. & BUSH ST.  37.786348   \n",
              "\n",
              "          lng district  subject_age            subject_race subject_sex  ...  \\\n",
              "0 -122.445873      NaN          NaN  asian/pacific islander      female  ...   \n",
              "1 -122.468586      NaN          NaN                   black        male  ...   \n",
              "2 -122.426718      NaN          NaN                hispanic        male  ...   \n",
              "3 -122.392005      NaN          NaN                hispanic        male  ...   \n",
              "4 -122.440003      NaN          NaN                   white        male  ...   \n",
              "\n",
              "  citation_issued  warning_issued   outcome  contraband_found  \\\n",
              "0           False            True   warning               NaN   \n",
              "1            True           False  citation               NaN   \n",
              "2            True           False  citation               NaN   \n",
              "3           False            True   warning               NaN   \n",
              "4            True           False  citation               NaN   \n",
              "\n",
              "  search_conducted search_vehicle  search_basis  \\\n",
              "0            False          False           NaN   \n",
              "1            False          False           NaN   \n",
              "2            False          False           NaN   \n",
              "3            False          False           NaN   \n",
              "4            False          False           NaN   \n",
              "\n",
              "                             reason_for_stop raw_search_vehicle_description  \\\n",
              "0  Mechanical or Non-Moving Violation (V.C.)                      No Search   \n",
              "1  Mechanical or Non-Moving Violation (V.C.)                      No Search   \n",
              "2  Mechanical or Non-Moving Violation (V.C.)                      No Search   \n",
              "3  Mechanical or Non-Moving Violation (V.C.)                      No Search   \n",
              "4  Mechanical or Non-Moving Violation (V.C.)                      No Search   \n",
              "\n",
              "  raw_result_of_contact_description  \n",
              "0                           Warning  \n",
              "1                          Citation  \n",
              "2                          Citation  \n",
              "3                           Warning  \n",
              "4                          Citation  \n",
              "\n",
              "[5 rows x 22 columns]"
            ],
            "text/html": [
              "\n",
              "  <div id=\"df-0755beb0-5427-4caa-9e11-1ac76c310f31\">\n",
              "    <div class=\"colab-df-container\">\n",
              "      <div>\n",
              "<style scoped>\n",
              "    .dataframe tbody tr th:only-of-type {\n",
              "        vertical-align: middle;\n",
              "    }\n",
              "\n",
              "    .dataframe tbody tr th {\n",
              "        vertical-align: top;\n",
              "    }\n",
              "\n",
              "    .dataframe thead th {\n",
              "        text-align: right;\n",
              "    }\n",
              "</style>\n",
              "<table border=\"1\" class=\"dataframe\">\n",
              "  <thead>\n",
              "    <tr style=\"text-align: right;\">\n",
              "      <th></th>\n",
              "      <th>raw_row_number</th>\n",
              "      <th>date</th>\n",
              "      <th>time</th>\n",
              "      <th>location</th>\n",
              "      <th>lat</th>\n",
              "      <th>lng</th>\n",
              "      <th>district</th>\n",
              "      <th>subject_age</th>\n",
              "      <th>subject_race</th>\n",
              "      <th>subject_sex</th>\n",
              "      <th>...</th>\n",
              "      <th>citation_issued</th>\n",
              "      <th>warning_issued</th>\n",
              "      <th>outcome</th>\n",
              "      <th>contraband_found</th>\n",
              "      <th>search_conducted</th>\n",
              "      <th>search_vehicle</th>\n",
              "      <th>search_basis</th>\n",
              "      <th>reason_for_stop</th>\n",
              "      <th>raw_search_vehicle_description</th>\n",
              "      <th>raw_result_of_contact_description</th>\n",
              "    </tr>\n",
              "  </thead>\n",
              "  <tbody>\n",
              "    <tr>\n",
              "      <th>0</th>\n",
              "      <td>869921</td>\n",
              "      <td>2014-08-01</td>\n",
              "      <td>00:01:00</td>\n",
              "      <td>MASONIC AV &amp; FELL ST</td>\n",
              "      <td>37.773004</td>\n",
              "      <td>-122.445873</td>\n",
              "      <td>NaN</td>\n",
              "      <td>NaN</td>\n",
              "      <td>asian/pacific islander</td>\n",
              "      <td>female</td>\n",
              "      <td>...</td>\n",
              "      <td>False</td>\n",
              "      <td>True</td>\n",
              "      <td>warning</td>\n",
              "      <td>NaN</td>\n",
              "      <td>False</td>\n",
              "      <td>False</td>\n",
              "      <td>NaN</td>\n",
              "      <td>Mechanical or Non-Moving Violation (V.C.)</td>\n",
              "      <td>No Search</td>\n",
              "      <td>Warning</td>\n",
              "    </tr>\n",
              "    <tr>\n",
              "      <th>1</th>\n",
              "      <td>869922</td>\n",
              "      <td>2014-08-01</td>\n",
              "      <td>00:01:00</td>\n",
              "      <td>GEARY&amp;10TH AV</td>\n",
              "      <td>37.780898</td>\n",
              "      <td>-122.468586</td>\n",
              "      <td>NaN</td>\n",
              "      <td>NaN</td>\n",
              "      <td>black</td>\n",
              "      <td>male</td>\n",
              "      <td>...</td>\n",
              "      <td>True</td>\n",
              "      <td>False</td>\n",
              "      <td>citation</td>\n",
              "      <td>NaN</td>\n",
              "      <td>False</td>\n",
              "      <td>False</td>\n",
              "      <td>NaN</td>\n",
              "      <td>Mechanical or Non-Moving Violation (V.C.)</td>\n",
              "      <td>No Search</td>\n",
              "      <td>Citation</td>\n",
              "    </tr>\n",
              "    <tr>\n",
              "      <th>2</th>\n",
              "      <td>869923</td>\n",
              "      <td>2014-08-01</td>\n",
              "      <td>00:15:00</td>\n",
              "      <td>SUTTER N OCTAVIA ST</td>\n",
              "      <td>37.786919</td>\n",
              "      <td>-122.426718</td>\n",
              "      <td>NaN</td>\n",
              "      <td>NaN</td>\n",
              "      <td>hispanic</td>\n",
              "      <td>male</td>\n",
              "      <td>...</td>\n",
              "      <td>True</td>\n",
              "      <td>False</td>\n",
              "      <td>citation</td>\n",
              "      <td>NaN</td>\n",
              "      <td>False</td>\n",
              "      <td>False</td>\n",
              "      <td>NaN</td>\n",
              "      <td>Mechanical or Non-Moving Violation (V.C.)</td>\n",
              "      <td>No Search</td>\n",
              "      <td>Citation</td>\n",
              "    </tr>\n",
              "    <tr>\n",
              "      <th>3</th>\n",
              "      <td>869924</td>\n",
              "      <td>2014-08-01</td>\n",
              "      <td>00:18:00</td>\n",
              "      <td>3RD ST &amp; DAVIDSON</td>\n",
              "      <td>37.746380</td>\n",
              "      <td>-122.392005</td>\n",
              "      <td>NaN</td>\n",
              "      <td>NaN</td>\n",
              "      <td>hispanic</td>\n",
              "      <td>male</td>\n",
              "      <td>...</td>\n",
              "      <td>False</td>\n",
              "      <td>True</td>\n",
              "      <td>warning</td>\n",
              "      <td>NaN</td>\n",
              "      <td>False</td>\n",
              "      <td>False</td>\n",
              "      <td>NaN</td>\n",
              "      <td>Mechanical or Non-Moving Violation (V.C.)</td>\n",
              "      <td>No Search</td>\n",
              "      <td>Warning</td>\n",
              "    </tr>\n",
              "    <tr>\n",
              "      <th>4</th>\n",
              "      <td>869925</td>\n",
              "      <td>2014-08-01</td>\n",
              "      <td>00:19:00</td>\n",
              "      <td>DIVISADERO ST. &amp; BUSH ST.</td>\n",
              "      <td>37.786348</td>\n",
              "      <td>-122.440003</td>\n",
              "      <td>NaN</td>\n",
              "      <td>NaN</td>\n",
              "      <td>white</td>\n",
              "      <td>male</td>\n",
              "      <td>...</td>\n",
              "      <td>True</td>\n",
              "      <td>False</td>\n",
              "      <td>citation</td>\n",
              "      <td>NaN</td>\n",
              "      <td>False</td>\n",
              "      <td>False</td>\n",
              "      <td>NaN</td>\n",
              "      <td>Mechanical or Non-Moving Violation (V.C.)</td>\n",
              "      <td>No Search</td>\n",
              "      <td>Citation</td>\n",
              "    </tr>\n",
              "  </tbody>\n",
              "</table>\n",
              "<p>5 rows × 22 columns</p>\n",
              "</div>\n",
              "      <button class=\"colab-df-convert\" onclick=\"convertToInteractive('df-0755beb0-5427-4caa-9e11-1ac76c310f31')\"\n",
              "              title=\"Convert this dataframe to an interactive table.\"\n",
              "              style=\"display:none;\">\n",
              "        \n",
              "  <svg xmlns=\"http://www.w3.org/2000/svg\" height=\"24px\"viewBox=\"0 0 24 24\"\n",
              "       width=\"24px\">\n",
              "    <path d=\"M0 0h24v24H0V0z\" fill=\"none\"/>\n",
              "    <path d=\"M18.56 5.44l.94 2.06.94-2.06 2.06-.94-2.06-.94-.94-2.06-.94 2.06-2.06.94zm-11 1L8.5 8.5l.94-2.06 2.06-.94-2.06-.94L8.5 2.5l-.94 2.06-2.06.94zm10 10l.94 2.06.94-2.06 2.06-.94-2.06-.94-.94-2.06-.94 2.06-2.06.94z\"/><path d=\"M17.41 7.96l-1.37-1.37c-.4-.4-.92-.59-1.43-.59-.52 0-1.04.2-1.43.59L10.3 9.45l-7.72 7.72c-.78.78-.78 2.05 0 2.83L4 21.41c.39.39.9.59 1.41.59.51 0 1.02-.2 1.41-.59l7.78-7.78 2.81-2.81c.8-.78.8-2.07 0-2.86zM5.41 20L4 18.59l7.72-7.72 1.47 1.35L5.41 20z\"/>\n",
              "  </svg>\n",
              "      </button>\n",
              "      \n",
              "  <style>\n",
              "    .colab-df-container {\n",
              "      display:flex;\n",
              "      flex-wrap:wrap;\n",
              "      gap: 12px;\n",
              "    }\n",
              "\n",
              "    .colab-df-convert {\n",
              "      background-color: #E8F0FE;\n",
              "      border: none;\n",
              "      border-radius: 50%;\n",
              "      cursor: pointer;\n",
              "      display: none;\n",
              "      fill: #1967D2;\n",
              "      height: 32px;\n",
              "      padding: 0 0 0 0;\n",
              "      width: 32px;\n",
              "    }\n",
              "\n",
              "    .colab-df-convert:hover {\n",
              "      background-color: #E2EBFA;\n",
              "      box-shadow: 0px 1px 2px rgba(60, 64, 67, 0.3), 0px 1px 3px 1px rgba(60, 64, 67, 0.15);\n",
              "      fill: #174EA6;\n",
              "    }\n",
              "\n",
              "    [theme=dark] .colab-df-convert {\n",
              "      background-color: #3B4455;\n",
              "      fill: #D2E3FC;\n",
              "    }\n",
              "\n",
              "    [theme=dark] .colab-df-convert:hover {\n",
              "      background-color: #434B5C;\n",
              "      box-shadow: 0px 1px 3px 1px rgba(0, 0, 0, 0.15);\n",
              "      filter: drop-shadow(0px 1px 2px rgba(0, 0, 0, 0.3));\n",
              "      fill: #FFFFFF;\n",
              "    }\n",
              "  </style>\n",
              "\n",
              "      <script>\n",
              "        const buttonEl =\n",
              "          document.querySelector('#df-0755beb0-5427-4caa-9e11-1ac76c310f31 button.colab-df-convert');\n",
              "        buttonEl.style.display =\n",
              "          google.colab.kernel.accessAllowed ? 'block' : 'none';\n",
              "\n",
              "        async function convertToInteractive(key) {\n",
              "          const element = document.querySelector('#df-0755beb0-5427-4caa-9e11-1ac76c310f31');\n",
              "          const dataTable =\n",
              "            await google.colab.kernel.invokeFunction('convertToInteractive',\n",
              "                                                     [key], {});\n",
              "          if (!dataTable) return;\n",
              "\n",
              "          const docLinkHtml = 'Like what you see? Visit the ' +\n",
              "            '<a target=\"_blank\" href=https://colab.research.google.com/notebooks/data_table.ipynb>data table notebook</a>'\n",
              "            + ' to learn more about interactive tables.';\n",
              "          element.innerHTML = '';\n",
              "          dataTable['output_type'] = 'display_data';\n",
              "          await google.colab.output.renderOutput(dataTable, element);\n",
              "          const docLink = document.createElement('div');\n",
              "          docLink.innerHTML = docLinkHtml;\n",
              "          element.appendChild(docLink);\n",
              "        }\n",
              "      </script>\n",
              "    </div>\n",
              "  </div>\n",
              "  "
            ]
          },
          "metadata": {},
          "execution_count": 324
        }
      ],
      "source": [
        "print(\"Approximately {} rows contain NA values.\".format(df.isna().sum(axis=1).sum()))\n",
        "df.head()"
      ]
    },
    {
      "cell_type": "markdown",
      "metadata": {
        "id": "IPiYNItYp4w7"
      },
      "source": [
        "Based on these findings, we will need to drop both columns and rows that contain NA values. This will reduce the amount of rows which will be helpful for our predictor models. "
      ]
    },
    {
      "cell_type": "markdown",
      "metadata": {
        "id": "hqebBizIrw3T"
      },
      "source": [
        "# Data Pre-Processing "
      ]
    },
    {
      "cell_type": "markdown",
      "metadata": {
        "id": "6eY9X_h-oNPZ"
      },
      "source": [
        "The San Francisco data report contains variables that will not be used in this project. For example, variables that record date, time, and location will be dropped. \n",
        "\n",
        "In addition, we will also remove columns and rows that have missing data. We will also use LabelEncoder from Scikit-Learn to convert our catergorical variables to numerical values. \n",
        "\n",
        "Lastly, we will use only a random sample of 50% for data exploration and for modeling. \n",
        "\n",
        "\n",
        "\n",
        "\n"
      ]
    },
    {
      "cell_type": "code",
      "execution_count": null,
      "metadata": {
        "id": "eHSzxlcCK5Js"
      },
      "outputs": [],
      "source": [
        "df.drop(['raw_row_number', 'date', 'time', 'location', 'lat', 'lng', 'district', 'contraband_found', 'search_basis', 'raw_search_vehicle_description', 'raw_result_of_contact_description', 'type'], axis=1, inplace=True)\n",
        "df = df.dropna()\n",
        "df = df.sample(frac=0.5)\n",
        "df = df.reset_index(drop=True)"
      ]
    },
    {
      "cell_type": "code",
      "execution_count": null,
      "metadata": {
        "colab": {
          "base_uri": "https://localhost:8080/"
        },
        "id": "OYDTgCzNsT6T",
        "outputId": "c2be701d-6663-412a-9f1b-5588a6f09f98"
      },
      "outputs": [
        {
          "output_type": "stream",
          "name": "stdout",
          "text": [
            "<class 'pandas.core.frame.DataFrame'>\n",
            "RangeIndex: 414850 entries, 0 to 414849\n",
            "Data columns (total 10 columns):\n",
            " #   Column            Non-Null Count   Dtype  \n",
            "---  ------            --------------   -----  \n",
            " 0   subject_age       414850 non-null  float64\n",
            " 1   subject_race      414850 non-null  object \n",
            " 2   subject_sex       414850 non-null  object \n",
            " 3   arrest_made       414850 non-null  bool   \n",
            " 4   citation_issued   414850 non-null  bool   \n",
            " 5   warning_issued    414850 non-null  bool   \n",
            " 6   outcome           414850 non-null  object \n",
            " 7   search_conducted  414850 non-null  bool   \n",
            " 8   search_vehicle    414850 non-null  bool   \n",
            " 9   reason_for_stop   414850 non-null  object \n",
            "dtypes: bool(5), float64(1), object(4)\n",
            "memory usage: 17.8+ MB\n"
          ]
        }
      ],
      "source": [
        "df.info()"
      ]
    },
    {
      "cell_type": "markdown",
      "metadata": {
        "id": "7xhbNis3ltgF"
      },
      "source": [
        "After our inital pre-processing, we see that we now have 10 columns. All with the name non-null count. Dtypes are of float64, object, and bool, \n",
        "\n",
        "\n",
        "Example of Features:\n",
        "\n",
        "\n",
        "*   subject_race: 'asian/pacific islander', 'black','hispanic', 'white', 'other'\n",
        "*   subject_sex: 'female', 'male'\n",
        "*   arrest_made: True, False\n",
        "*   citation_issued: True, False\n",
        "*   warning_issued: True, False\n",
        "*   outcome: 'warning', 'citation', 'arrest'\n",
        "*   search_conducted: True, False\n",
        "*   search_vehicle: True, False\n"
      ]
    },
    {
      "cell_type": "markdown",
      "metadata": {
        "id": "7OyornCEoOVf"
      },
      "source": [
        "**Data Visualization**\n",
        "\n"
      ]
    },
    {
      "cell_type": "code",
      "execution_count": null,
      "metadata": {
        "colab": {
          "base_uri": "https://localhost:8080/",
          "height": 303
        },
        "id": "XRFIJdWHU13s",
        "outputId": "9cd11b30-bb9d-4894-8d67-29e1288175b6"
      },
      "outputs": [
        {
          "output_type": "execute_result",
          "data": {
            "text/plain": [
              "Text(0.5, 0, '')"
            ]
          },
          "metadata": {},
          "execution_count": 327
        },
        {
          "output_type": "display_data",
          "data": {
            "text/plain": [
              "<Figure size 792x360 with 3 Axes>"
            ],
            "image/png": "[encoded data removed]"
          },
          "metadata": {}
        }
      ],
      "source": [
        "\n",
        "result = ['Citation Issued', 'Warning']\n",
        "sum_of_result = [df.citation_issued.sum(), df.warning_issued.sum()]\n",
        "\n",
        "plt.figure(tight_layout=True, figsize=(11, 5))\n",
        "\n",
        "\n",
        "plt.subplot(1,3,1)\n",
        "plt.bar(result, sum_of_result, color=['purple', 'orange'])\n",
        "plt.title(\"Count of Citation and Warnings\")\n",
        "plt.ylabel(\"Count\")\n",
        "\n",
        "\n",
        "sex = df.groupby('subject_sex')['search_vehicle'].sum()\n",
        "plt.subplot(1,3,2)\n",
        "sns.barplot(x = sex.index, y = sex.values)\n",
        "plt.title(\"Count of Traffic Stops By Sex\")\n",
        "plt.ylabel(\"Count\")\n",
        "plt.xlabel(\"\")\n",
        "\n",
        "\n",
        "searched = df.groupby('search_vehicle')['arrest_made'].sum()\n",
        "plt.subplot(1,3,3)\n",
        "sns.barplot(x = searched.index, y = searched.values)\n",
        "plt.title(\"Count of Arrest Made by Searched Vehicle\")\n",
        "plt.ylabel(\"Count\")\n",
        "plt.xlabel(\"\")\n",
        "\n"
      ]
    },
    {
      "cell_type": "markdown",
      "metadata": {
        "id": "TOgqegQexGeu"
      },
      "source": [
        "First we will explore variables in from the data. On the left plot, we have a bar plot that displays the amount of citations vs warnings given. On the middle plot, we have traffic stops by sex of the individual stopped. And on the right plot, we see that police officers performed traffic stops on male subjects more than females.\n",
        "\n"
      ]
    },
    {
      "cell_type": "code",
      "execution_count": null,
      "metadata": {
        "colab": {
          "base_uri": "https://localhost:8080/",
          "height": 222
        },
        "id": "gjfPBGhMbkdV",
        "outputId": "3c62aa79-caab-465a-dc97-6432b3d3eae9"
      },
      "outputs": [
        {
          "output_type": "display_data",
          "data": {
            "text/plain": [
              "<Figure size 1080x360 with 2 Axes>"
            ],
            "image/png": "[encoded data removed]"
          },
          "metadata": {}
        }
      ],
      "source": [
        "tick = ['asian/pacific islander', 'black', 'hispanic', 'white', 'other']\n",
        "search = df.groupby('subject_race')['search_vehicle'].sum().sort_values()\n",
        "plt.figure(tight_layout=True, figsize=(15, 5))\n",
        "plt.subplot(1,2,1)\n",
        "sns.barplot(x = search.index, y = search.values)\n",
        "plt.title(\"Count of Search Vehicle By Race\")\n",
        "plt.ylabel(\"Count\")\n",
        "plt.xlabel(\"Race\")\n",
        "\n",
        "arrest = df.groupby('subject_race')['arrest_made'].sum().sort_values()\n",
        "plt.subplot(1,2,2)\n",
        "sns.barplot(x = arrest.index, y = arrest.values)\n",
        "plt.title(\"Count of Arrest Made by Race\")\n",
        "plt.ylabel(\"Count\")\n",
        "plt.xlabel(\"Race\")\n",
        "sns.set(rc={'axes.facecolor':'lightgrey', 'figure.facecolor':'lightgrey'})"
      ]
    },
    {
      "cell_type": "markdown",
      "metadata": {
        "id": "s3tFa1Kkvtee"
      },
      "source": [
        "The bar plot on the left provides context to the outcome of getting your vehicle searched based on race. Police officers performed more vehicle searches on Black individuals when compared to other races.\n",
        "\n",
        "The plot on the right provides context to the outcome of the traffic stop based on race. According to the bar plot, police officers are arresting Black individuals more than other races.\n",
        "\n"
      ]
    },
    {
      "cell_type": "code",
      "execution_count": null,
      "metadata": {
        "colab": {
          "base_uri": "https://localhost:8080/",
          "height": 222
        },
        "id": "cirRdo-_-BzY",
        "outputId": "02fce7b4-3c77-45b1-dfe6-1e4e7239ec48"
      },
      "outputs": [
        {
          "output_type": "display_data",
          "data": {
            "text/plain": [
              "<Figure size 1080x360 with 2 Axes>"
            ],
            "image/png": "[encoded data removed]"
          },
          "metadata": {}
        }
      ],
      "source": [
        "plt.figure(tight_layout=True, figsize=(15, 5))\n",
        "plt.subplot(1,2,1)\n",
        "sns.kdeplot(df['subject_age'])\n",
        "plt.title('Density of Age')\n",
        "plt.xlabel('Age')\n",
        "plt.subplot(1,2,2)\n",
        "sns.violinplot(data=df, x=\"subject_race\", y=\"subject_age\")\n",
        "plt.title('Subject Age by Race')\n",
        "plt.ylabel('Subject Age')\n",
        "plt.xlabel('Race')\n",
        "sns.set(rc={'axes.facecolor':'lightgrey', 'figure.facecolor':'lightgrey'})"
      ]
    },
    {
      "cell_type": "markdown",
      "metadata": {
        "id": "nUu10DqTy8ur"
      },
      "source": [
        "The dataset has a high density of subjects ranging from 20-30 years old. We used a violin plot to represent the age of people stopped, distributed by race.\n",
        "\n"
      ]
    },
    {
      "cell_type": "code",
      "execution_count": null,
      "metadata": {
        "colab": {
          "base_uri": "https://localhost:8080/",
          "height": 425
        },
        "id": "w5KnWAPvodfl",
        "outputId": "eb85d958-d18f-428d-9d91-d4f94b1f0daa"
      },
      "outputs": [
        {
          "output_type": "execute_result",
          "data": {
            "text/plain": [
              "Text(0.5, 0, 'Subject Race')"
            ]
          },
          "metadata": {},
          "execution_count": 330
        },
        {
          "output_type": "display_data",
          "data": {
            "text/plain": [
              "<Figure size 432x288 with 1 Axes>"
            ],
            "image/png": "[encoded data removed]"
          },
          "metadata": {}
        }
      ],
      "source": [
        "df.subject_race.value_counts().plot(kind='bar')\n",
        "plt.title('Distribution of Subject Race')\n",
        "plt.ylabel('Count')\n",
        "plt.xlabel('Subject Race')"
      ]
    },
    {
      "cell_type": "code",
      "execution_count": null,
      "metadata": {
        "colab": {
          "base_uri": "https://localhost:8080/"
        },
        "id": "qvwVeBeT15d4",
        "outputId": "ebc2bcf6-8b88-4b67-9f68-ab8fbbaea8fd"
      },
      "outputs": [
        {
          "output_type": "execute_result",
          "data": {
            "text/plain": [
              "white                     173543\n",
              "asian/pacific islander     72944\n",
              "black                      68921\n",
              "hispanic                   51534\n",
              "other                      47908\n",
              "Name: subject_race, dtype: int64"
            ]
          },
          "metadata": {},
          "execution_count": 331
        }
      ],
      "source": [
        "df.subject_race.value_counts()"
      ]
    },
    {
      "cell_type": "markdown",
      "metadata": {
        "id": "CTEPraXs1w7m"
      },
      "source": [
        "Subject race seems to be skewed where there are more white subjects in the dataset. "
      ]
    },
    {
      "cell_type": "markdown",
      "metadata": {
        "id": "dPKeTAy1iYmL"
      },
      "source": [
        "Lastly we will use label encoder to convert our predictor feature, outcome, and our target feature, race, to numerical values. "
      ]
    },
    {
      "cell_type": "markdown",
      "metadata": {
        "id": "uzeeupeoiHQ3"
      },
      "source": [
        "**Final Pre-processing**"
      ]
    },
    {
      "cell_type": "code",
      "execution_count": null,
      "metadata": {
        "id": "L6q4WdZDBSRS"
      },
      "outputs": [],
      "source": [
        "df ['outcome'] = preprocessing.LabelEncoder().fit_transform(df['outcome'])\n",
        "df ['subject_race'] = preprocessing.LabelEncoder().fit_transform(df['subject_race'])"
      ]
    },
    {
      "cell_type": "code",
      "source": [
        "df.subject_race.value_counts()"
      ],
      "metadata": {
        "colab": {
          "base_uri": "https://localhost:8080/"
        },
        "id": "mLWnu2pGu8Fb",
        "outputId": "b123ef34-4ef3-4ed5-b261-b3beeb6793c2"
      },
      "execution_count": null,
      "outputs": [
        {
          "output_type": "execute_result",
          "data": {
            "text/plain": [
              "4    173543\n",
              "0     72944\n",
              "1     68921\n",
              "2     51534\n",
              "3     47908\n",
              "Name: subject_race, dtype: int64"
            ]
          },
          "metadata": {},
          "execution_count": 333
        }
      ]
    },
    {
      "cell_type": "markdown",
      "source": [
        "Subject Race is encoded as follow:\n",
        "* 'White': 4\n",
        "* 'Asian/Pacific Islander': 0\n",
        "* 'Black': 1\n",
        "* 'Hispanic': 2\n",
        "* 'Other': 3"
      ],
      "metadata": {
        "id": "_AEBIcqdvHPL"
      }
    },
    {
      "cell_type": "code",
      "source": [
        "df.info()"
      ],
      "metadata": {
        "colab": {
          "base_uri": "https://localhost:8080/"
        },
        "id": "cZ5G29I1nKgn",
        "outputId": "e0cf1e00-fda6-46bc-9343-a080a166ff4e"
      },
      "execution_count": null,
      "outputs": [
        {
          "output_type": "stream",
          "name": "stdout",
          "text": [
            "<class 'pandas.core.frame.DataFrame'>\n",
            "RangeIndex: 414850 entries, 0 to 414849\n",
            "Data columns (total 10 columns):\n",
            " #   Column            Non-Null Count   Dtype  \n",
            "---  ------            --------------   -----  \n",
            " 0   subject_age       414850 non-null  float64\n",
            " 1   subject_race      414850 non-null  int64  \n",
            " 2   subject_sex       414850 non-null  object \n",
            " 3   arrest_made       414850 non-null  bool   \n",
            " 4   citation_issued   414850 non-null  bool   \n",
            " 5   warning_issued    414850 non-null  bool   \n",
            " 6   outcome           414850 non-null  int64  \n",
            " 7   search_conducted  414850 non-null  bool   \n",
            " 8   search_vehicle    414850 non-null  bool   \n",
            " 9   reason_for_stop   414850 non-null  object \n",
            "dtypes: bool(5), float64(1), int64(2), object(2)\n",
            "memory usage: 17.8+ MB\n"
          ]
        }
      ]
    },
    {
      "cell_type": "markdown",
      "source": [
        "After our final preprocing we have 10 variables. Five of these variables are of dtype bool, one is of float64, two are of int64, and 2 are of object. "
      ],
      "metadata": {
        "id": "kNgz-I6ipr4C"
      }
    },
    {
      "cell_type": "markdown",
      "metadata": {
        "id": "3gjONTk3sFxh"
      },
      "source": [
        "#KNN Classification"
      ]
    },
    {
      "cell_type": "markdown",
      "metadata": {
        "id": "wIOhe_idMcC9"
      },
      "source": [
        "Our first machine learning method we will use to predict subject_race is the KNN Classification. For this algorithm we used a random sample (5000) of our data in order for the model to run faster.  "
      ]
    },
    {
      "cell_type": "code",
      "execution_count": null,
      "metadata": {
        "id": "YQ-dr7bDzcmg"
      },
      "outputs": [],
      "source": [
        "def get_best(ks, acc):\n",
        "    return ks[(acc.index(max(acc)))]"
      ]
    },
    {
      "cell_type": "code",
      "execution_count": null,
      "metadata": {
        "id": "WDd3PqXpxK0-"
      },
      "outputs": [],
      "source": [
        "def get_train_test_accuracy(knn, X_train, X_test, y_train, y_test):\n",
        "    knn.fit(X_train,y_train)\n",
        "    prediction = knn.predict(X_test) \n",
        "    return accuracy_score(y_test, prediction)"
      ]
    },
    {
      "cell_type": "code",
      "execution_count": null,
      "metadata": {
        "id": "9cG0iWRELHAd"
      },
      "outputs": [],
      "source": [
        "np.random.seed(42)  \n",
        "\n",
        "predictors = ['outcome', 'subject_age']\n",
        "X = df[predictors].values\n",
        "y = df['subject_race'].values\n",
        "\n",
        "indexes = np.random.choice(y.size, size=5000)\n",
        "X_mini = X[indexes]\n",
        "y_mini = y[indexes]\n",
        "\n",
        "X_train, X_test, y_train, y_test = train_test_split(X_mini, y_mini, test_size=0.30, random_state=42)\n",
        "\n",
        "scaler = StandardScaler()\n",
        "\n",
        "X_train = scaler.fit_transform(X_train)\n",
        "X_test = scaler.transform(X_test)\n",
        "\n",
        "#Getting the best K\n",
        "n = 30\n",
        "test_acc = []\n",
        "ks = np.arange(1, n+1, 2)\n",
        "for k in ks:\n",
        "    knn = KNeighborsClassifier(n_neighbors=k, algorithm='brute', metric='minkowski')\n",
        "    acc_te = get_train_test_accuracy(knn, X_train, X_test, y_train, y_test)\n",
        "    test_acc.append(acc_te)\n",
        "best_k = get_best(ks, test_acc)\n",
        "\n",
        "knn = KNeighborsClassifier(n_neighbors= best_k, algorithm='brute', metric='minkowski')\n",
        "knn.fit(X_train, y_train)\n",
        "y_predict = knn.predict(X_test)\n"
      ]
    },
    {
      "cell_type": "markdown",
      "metadata": {
        "id": "QeO-YynqXkh3"
      },
      "source": [
        "Lets see how the first ten predicted values look when comapred to the actual values.  "
      ]
    },
    {
      "cell_type": "code",
      "execution_count": null,
      "metadata": {
        "colab": {
          "base_uri": "https://localhost:8080/"
        },
        "id": "46KTy0FoM3Wg",
        "outputId": "f2c78aaa-e857-42b1-c470-b243434dccf4"
      },
      "outputs": [
        {
          "output_type": "stream",
          "name": "stdout",
          "text": [
            "Predictions: [4 4 4 4 4 4 4 4 4 4]\n",
            "Actual: [4 3 2 4 0 1 4 4 4 4]\n"
          ]
        }
      ],
      "source": [
        "print(\"Predictions: {}\".format(y_predict[:10]))\n",
        "print(\"Actual: {}\".format(y_test[:10]))"
      ]
    },
    {
      "cell_type": "markdown",
      "metadata": {
        "id": "EtrRRqqtXhg1"
      },
      "source": [
        "**Accuracy** \n",
        "\n",
        "Based the accuracy score for this model, we see that KNN classification may not be the best model for our objective. "
      ]
    },
    {
      "cell_type": "code",
      "execution_count": null,
      "metadata": {
        "colab": {
          "base_uri": "https://localhost:8080/"
        },
        "id": "JG5gAffbVTd8",
        "outputId": "7da90058-4480-481c-c26a-db5971628111"
      },
      "outputs": [
        {
          "output_type": "stream",
          "name": "stdout",
          "text": [
            "Accuracy: 0.39\n"
          ]
        }
      ],
      "source": [
        "print('Accuracy: {:.2f}'.format((y_predict == y_test).mean()))"
      ]
    },
    {
      "cell_type": "markdown",
      "metadata": {
        "id": "HpZyVkypa8Y3"
      },
      "source": [
        "**Confusion Matrix**\n",
        "\n",
        "Our confusion matrix below shows that out model is mostly predicting race as White (4). "
      ]
    },
    {
      "cell_type": "code",
      "execution_count": null,
      "metadata": {
        "colab": {
          "base_uri": "https://localhost:8080/",
          "height": 238
        },
        "id": "hr50HoabbAhX",
        "outputId": "049bd363-6850-47d8-c12b-94013dca6de6"
      },
      "outputs": [
        {
          "output_type": "execute_result",
          "data": {
            "text/plain": [
              "Predicted   0   1   2    4\n",
              "Actual                    \n",
              "0          23  20  16  224\n",
              "1          13  41  12  175\n",
              "2           9  23  12  144\n",
              "3           9  14   6  135\n",
              "4          40  43  26  515"
            ],
            "text/html": [
              "\n",
              "  <div id=\"df-eaa577f9-7723-430c-8b13-5091bc348e75\">\n",
              "    <div class=\"colab-df-container\">\n",
              "      <div>\n",
              "<style scoped>\n",
              "    .dataframe tbody tr th:only-of-type {\n",
              "        vertical-align: middle;\n",
              "    }\n",
              "\n",
              "    .dataframe tbody tr th {\n",
              "        vertical-align: top;\n",
              "    }\n",
              "\n",
              "    .dataframe thead th {\n",
              "        text-align: right;\n",
              "    }\n",
              "</style>\n",
              "<table border=\"1\" class=\"dataframe\">\n",
              "  <thead>\n",
              "    <tr style=\"text-align: right;\">\n",
              "      <th>Predicted</th>\n",
              "      <th>0</th>\n",
              "      <th>1</th>\n",
              "      <th>2</th>\n",
              "      <th>4</th>\n",
              "    </tr>\n",
              "    <tr>\n",
              "      <th>Actual</th>\n",
              "      <th></th>\n",
              "      <th></th>\n",
              "      <th></th>\n",
              "      <th></th>\n",
              "    </tr>\n",
              "  </thead>\n",
              "  <tbody>\n",
              "    <tr>\n",
              "      <th>0</th>\n",
              "      <td>23</td>\n",
              "      <td>20</td>\n",
              "      <td>16</td>\n",
              "      <td>224</td>\n",
              "    </tr>\n",
              "    <tr>\n",
              "      <th>1</th>\n",
              "      <td>13</td>\n",
              "      <td>41</td>\n",
              "      <td>12</td>\n",
              "      <td>175</td>\n",
              "    </tr>\n",
              "    <tr>\n",
              "      <th>2</th>\n",
              "      <td>9</td>\n",
              "      <td>23</td>\n",
              "      <td>12</td>\n",
              "      <td>144</td>\n",
              "    </tr>\n",
              "    <tr>\n",
              "      <th>3</th>\n",
              "      <td>9</td>\n",
              "      <td>14</td>\n",
              "      <td>6</td>\n",
              "      <td>135</td>\n",
              "    </tr>\n",
              "    <tr>\n",
              "      <th>4</th>\n",
              "      <td>40</td>\n",
              "      <td>43</td>\n",
              "      <td>26</td>\n",
              "      <td>515</td>\n",
              "    </tr>\n",
              "  </tbody>\n",
              "</table>\n",
              "</div>\n",
              "      <button class=\"colab-df-convert\" onclick=\"convertToInteractive('df-eaa577f9-7723-430c-8b13-5091bc348e75')\"\n",
              "              title=\"Convert this dataframe to an interactive table.\"\n",
              "              style=\"display:none;\">\n",
              "        \n",
              "  <svg xmlns=\"http://www.w3.org/2000/svg\" height=\"24px\"viewBox=\"0 0 24 24\"\n",
              "       width=\"24px\">\n",
              "    <path d=\"M0 0h24v24H0V0z\" fill=\"none\"/>\n",
              "    <path d=\"M18.56 5.44l.94 2.06.94-2.06 2.06-.94-2.06-.94-.94-2.06-.94 2.06-2.06.94zm-11 1L8.5 8.5l.94-2.06 2.06-.94-2.06-.94L8.5 2.5l-.94 2.06-2.06.94zm10 10l.94 2.06.94-2.06 2.06-.94-2.06-.94-.94-2.06-.94 2.06-2.06.94z\"/><path d=\"M17.41 7.96l-1.37-1.37c-.4-.4-.92-.59-1.43-.59-.52 0-1.04.2-1.43.59L10.3 9.45l-7.72 7.72c-.78.78-.78 2.05 0 2.83L4 21.41c.39.39.9.59 1.41.59.51 0 1.02-.2 1.41-.59l7.78-7.78 2.81-2.81c.8-.78.8-2.07 0-2.86zM5.41 20L4 18.59l7.72-7.72 1.47 1.35L5.41 20z\"/>\n",
              "  </svg>\n",
              "      </button>\n",
              "      \n",
              "  <style>\n",
              "    .colab-df-container {\n",
              "      display:flex;\n",
              "      flex-wrap:wrap;\n",
              "      gap: 12px;\n",
              "    }\n",
              "\n",
              "    .colab-df-convert {\n",
              "      background-color: #E8F0FE;\n",
              "      border: none;\n",
              "      border-radius: 50%;\n",
              "      cursor: pointer;\n",
              "      display: none;\n",
              "      fill: #1967D2;\n",
              "      height: 32px;\n",
              "      padding: 0 0 0 0;\n",
              "      width: 32px;\n",
              "    }\n",
              "\n",
              "    .colab-df-convert:hover {\n",
              "      background-color: #E2EBFA;\n",
              "      box-shadow: 0px 1px 2px rgba(60, 64, 67, 0.3), 0px 1px 3px 1px rgba(60, 64, 67, 0.15);\n",
              "      fill: #174EA6;\n",
              "    }\n",
              "\n",
              "    [theme=dark] .colab-df-convert {\n",
              "      background-color: #3B4455;\n",
              "      fill: #D2E3FC;\n",
              "    }\n",
              "\n",
              "    [theme=dark] .colab-df-convert:hover {\n",
              "      background-color: #434B5C;\n",
              "      box-shadow: 0px 1px 3px 1px rgba(0, 0, 0, 0.15);\n",
              "      filter: drop-shadow(0px 1px 2px rgba(0, 0, 0, 0.3));\n",
              "      fill: #FFFFFF;\n",
              "    }\n",
              "  </style>\n",
              "\n",
              "      <script>\n",
              "        const buttonEl =\n",
              "          document.querySelector('#df-eaa577f9-7723-430c-8b13-5091bc348e75 button.colab-df-convert');\n",
              "        buttonEl.style.display =\n",
              "          google.colab.kernel.accessAllowed ? 'block' : 'none';\n",
              "\n",
              "        async function convertToInteractive(key) {\n",
              "          const element = document.querySelector('#df-eaa577f9-7723-430c-8b13-5091bc348e75');\n",
              "          const dataTable =\n",
              "            await google.colab.kernel.invokeFunction('convertToInteractive',\n",
              "                                                     [key], {});\n",
              "          if (!dataTable) return;\n",
              "\n",
              "          const docLinkHtml = 'Like what you see? Visit the ' +\n",
              "            '<a target=\"_blank\" href=https://colab.research.google.com/notebooks/data_table.ipynb>data table notebook</a>'\n",
              "            + ' to learn more about interactive tables.';\n",
              "          element.innerHTML = '';\n",
              "          dataTable['output_type'] = 'display_data';\n",
              "          await google.colab.output.renderOutput(dataTable, element);\n",
              "          const docLink = document.createElement('div');\n",
              "          docLink.innerHTML = docLinkHtml;\n",
              "          element.appendChild(docLink);\n",
              "        }\n",
              "      </script>\n",
              "    </div>\n",
              "  </div>\n",
              "  "
            ]
          },
          "metadata": {},
          "execution_count": 340
        }
      ],
      "source": [
        "pd.crosstab(y_test, y_predict, rownames=['Actual'], colnames=['Predicted'])"
      ]
    },
    {
      "cell_type": "code",
      "execution_count": null,
      "metadata": {
        "colab": {
          "base_uri": "https://localhost:8080/",
          "height": 302
        },
        "id": "vqCR5a7ia-xI",
        "outputId": "a4b36865-db31-4c08-c0a3-67fab5fce962"
      },
      "outputs": [
        {
          "output_type": "execute_result",
          "data": {
            "text/plain": [
              "Text(30.5, 0.5, 'actual')"
            ]
          },
          "metadata": {},
          "execution_count": 341
        },
        {
          "output_type": "display_data",
          "data": {
            "text/plain": [
              "<Figure size 432x288 with 2 Axes>"
            ],
            "image/png": "[encoded data removed]"
          },
          "metadata": {}
        }
      ],
      "source": [
        "cm = confusion_matrix(y_test, y_predict)\n",
        "sns.heatmap(cm, annot=True)\n",
        "plt.xlabel(\"predicted\")\n",
        "plt.ylabel(\"actual\")"
      ]
    },
    {
      "cell_type": "markdown",
      "metadata": {
        "id": "Po5Ht_17ru2s"
      },
      "source": [
        "**Learning Curve**\n",
        "\n",
        "The learning curve for our KNN classification shows that as the training size increases, the difference between the test score and training score becomes smaller. We also seem to be overfitting. "
      ]
    },
    {
      "cell_type": "code",
      "execution_count": null,
      "metadata": {
        "colab": {
          "base_uri": "https://localhost:8080/",
          "height": 318
        },
        "id": "07dof_SHruYr",
        "outputId": "e3f45862-e086-44f0-ba23-06e92fccd846"
      },
      "outputs": [
        {
          "output_type": "execute_result",
          "data": {
            "text/plain": [
              "<matplotlib.legend.Legend at 0x7f0832f94e20>"
            ]
          },
          "metadata": {},
          "execution_count": 342
        },
        {
          "output_type": "display_data",
          "data": {
            "text/plain": [
              "<Figure size 432x288 with 1 Axes>"
            ],
            "image/png": "[encoded data removed]"
          },
          "metadata": {}
        }
      ],
      "source": [
        "train_sizes, train_scores, test_scores = learning_curve(knn, X_train, y_train, cv=10, scoring='accuracy')\n",
        "train_scores_mean = np.mean(train_scores, axis=1)\n",
        "test_scores = np.mean(test_scores, axis=1)\n",
        "\n",
        "\n",
        "plt.plot(train_sizes, train_scores_mean, label='Train')\n",
        "plt.plot(train_sizes, test_scores, label='Test')\n",
        "plt.title('Learning Curve: KNN Classification')\n",
        "plt.xlabel('Train Set Size')\n",
        "plt.ylabel('Accuracy')\n",
        "plt.legend()"
      ]
    },
    {
      "cell_type": "markdown",
      "metadata": {
        "id": "39WMq_GzAD_Q"
      },
      "source": [
        "**Forward Selection**\n",
        "\n",
        "Our accuracy score is less that 50%. Lets see if adding more features improves our accuracy score. Again we will be using a random sample size of 5,000. We will also convert all the categorical values to numerical ones. "
      ]
    },
    {
      "cell_type": "code",
      "execution_count": null,
      "metadata": {
        "id": "JPT9kwUFA25H"
      },
      "outputs": [],
      "source": [
        "all_num = df = pd.get_dummies(df, drop_first = True)\n",
        "all_features = list(all_num.columns)\n",
        "all_features.remove('subject_race')\n",
        "np.random.seed(42)  \n",
        "\n",
        "X = all_num[all_features].values\n",
        "y = all_num['subject_race'].values\n",
        "\n",
        "indexes = np.random.choice(y.size, size=5000)\n",
        "X_mini = X[indexes]\n",
        "y_mini = y[indexes]\n",
        "\n",
        "X_train, X_test, y_train, y_test = train_test_split(X_mini, y_mini, test_size=0.30, random_state=42)\n",
        "\n",
        "scaler = StandardScaler()\n",
        "\n",
        "X_train = scaler.fit_transform(X_train)\n",
        "X_test = scaler.transform(X_test)\n",
        "\n",
        "knn = KNeighborsClassifier(n_neighbors= best_k, algorithm='brute', metric='minkowski')\n",
        "knn.fit(X_train, y_train)\n",
        "predictions = knn.predict(X_test)"
      ]
    },
    {
      "cell_type": "code",
      "execution_count": null,
      "metadata": {
        "colab": {
          "base_uri": "https://localhost:8080/"
        },
        "id": "MHOQgbCmKM_7",
        "outputId": "1cd6d508-792c-4d5e-a734-8b1be982fc9d"
      },
      "outputs": [
        {
          "output_type": "stream",
          "name": "stdout",
          "text": [
            "num features: 1; accuracy: 0.41\n",
            "num features: 2; accuracy: 0.41\n",
            "num features: 3; accuracy: 0.41\n",
            "num features: 4; accuracy: 0.41\n",
            "num features: 5; accuracy: 0.41\n"
          ]
        }
      ],
      "source": [
        "remaining = list(range(X_train.shape[1]))\n",
        "selected = []\n",
        "n = 5\n",
        "while len(selected) < n:\n",
        "    accuracy = 1e7\n",
        "    for i in remaining:\n",
        "        scores = cross_val_score(KNeighborsClassifier(n_neighbors= best_k, algorithm='brute', metric='minkowski'), X_train[:, selected+[i]], y_train, scoring='accuracy', cv=10)\n",
        "        if scores.mean() < accuracy:\n",
        "          accuracy = (predictions == y_test).mean() \n",
        "          i_min = i\n",
        "    remaining.remove(i_min)\n",
        "    selected.append(i_min)\n",
        "    print('num features: {}; accuracy: {:.2f}'.format(len(selected), accuracy))"
      ]
    },
    {
      "cell_type": "markdown",
      "metadata": {
        "id": "GeZwj9BbAY3k"
      },
      "source": [
        "By seeing 10 features being added, do not see a significant improvement. As a result, we will keep the two predictors (outcome, subject_age) to predict our target feature. These features will be used for our other models below.  "
      ]
    },
    {
      "cell_type": "markdown",
      "metadata": {
        "id": "FllsvoDm9-42"
      },
      "source": [
        "#Non-Linear SVC Classification"
      ]
    },
    {
      "cell_type": "markdown",
      "metadata": {
        "id": "CuXjDxJw-MQ5"
      },
      "source": [
        "**Accuracy**"
      ]
    },
    {
      "cell_type": "code",
      "execution_count": null,
      "metadata": {
        "colab": {
          "base_uri": "https://localhost:8080/"
        },
        "id": "_XG0tk_r9-fH",
        "outputId": "f3c94de9-bafe-4a23-81aa-78dbef120d54"
      },
      "outputs": [
        {
          "output_type": "stream",
          "name": "stdout",
          "text": [
            "Accuracy: 0.41\n"
          ]
        }
      ],
      "source": [
        "np.random.seed(42)  \n",
        "\n",
        "predictors = ['outcome', 'subject_age']\n",
        "X = df[predictors].values\n",
        "y = df['subject_race'].values\n",
        "\n",
        "indexes = np.random.choice(y.size, size=5000)\n",
        "X_mini = X[indexes]\n",
        "y_mini = y[indexes]\n",
        "\n",
        "X_train, X_test, y_train, y_test = train_test_split(X_mini, y_mini, test_size=0.30, random_state=42)\n",
        "\n",
        "clf = make_pipeline(StandardScaler(), SVC(gamma='scale'))\n",
        "clf.fit(X_train, y_train)\n",
        "y_predict = clf.predict(X_test)\n",
        "print('Accuracy: {:.2f}'.format(accuracy_score(y_test, y_predict)))"
      ]
    },
    {
      "cell_type": "markdown",
      "metadata": {
        "id": "gnL-cQo6-Uo8"
      },
      "source": [
        "**Cofusion Matrix**\n",
        "\n",
        "Looking at this confusion matrix we see the same trend as before, where the model is predicting White (4) more often as the race. "
      ]
    },
    {
      "cell_type": "code",
      "execution_count": null,
      "metadata": {
        "colab": {
          "base_uri": "https://localhost:8080/",
          "height": 238
        },
        "id": "eHN1JVV6-XhF",
        "outputId": "be635290-ae77-4c2b-9ca6-cefb09557b50"
      },
      "outputs": [
        {
          "output_type": "execute_result",
          "data": {
            "text/plain": [
              "Predicted  1  2    4\n",
              "Actual              \n",
              "0          0  1  282\n",
              "1          3  1  237\n",
              "2          1  0  187\n",
              "3          1  0  163\n",
              "4          4  2  618"
            ],
            "text/html": [
              "\n",
              "  <div id=\"df-63a8bef4-3d6b-43dd-b58d-5f13f99afd63\">\n",
              "    <div class=\"colab-df-container\">\n",
              "      <div>\n",
              "<style scoped>\n",
              "    .dataframe tbody tr th:only-of-type {\n",
              "        vertical-align: middle;\n",
              "    }\n",
              "\n",
              "    .dataframe tbody tr th {\n",
              "        vertical-align: top;\n",
              "    }\n",
              "\n",
              "    .dataframe thead th {\n",
              "        text-align: right;\n",
              "    }\n",
              "</style>\n",
              "<table border=\"1\" class=\"dataframe\">\n",
              "  <thead>\n",
              "    <tr style=\"text-align: right;\">\n",
              "      <th>Predicted</th>\n",
              "      <th>1</th>\n",
              "      <th>2</th>\n",
              "      <th>4</th>\n",
              "    </tr>\n",
              "    <tr>\n",
              "      <th>Actual</th>\n",
              "      <th></th>\n",
              "      <th></th>\n",
              "      <th></th>\n",
              "    </tr>\n",
              "  </thead>\n",
              "  <tbody>\n",
              "    <tr>\n",
              "      <th>0</th>\n",
              "      <td>0</td>\n",
              "      <td>1</td>\n",
              "      <td>282</td>\n",
              "    </tr>\n",
              "    <tr>\n",
              "      <th>1</th>\n",
              "      <td>3</td>\n",
              "      <td>1</td>\n",
              "      <td>237</td>\n",
              "    </tr>\n",
              "    <tr>\n",
              "      <th>2</th>\n",
              "      <td>1</td>\n",
              "      <td>0</td>\n",
              "      <td>187</td>\n",
              "    </tr>\n",
              "    <tr>\n",
              "      <th>3</th>\n",
              "      <td>1</td>\n",
              "      <td>0</td>\n",
              "      <td>163</td>\n",
              "    </tr>\n",
              "    <tr>\n",
              "      <th>4</th>\n",
              "      <td>4</td>\n",
              "      <td>2</td>\n",
              "      <td>618</td>\n",
              "    </tr>\n",
              "  </tbody>\n",
              "</table>\n",
              "</div>\n",
              "      <button class=\"colab-df-convert\" onclick=\"convertToInteractive('df-63a8bef4-3d6b-43dd-b58d-5f13f99afd63')\"\n",
              "              title=\"Convert this dataframe to an interactive table.\"\n",
              "              style=\"display:none;\">\n",
              "        \n",
              "  <svg xmlns=\"http://www.w3.org/2000/svg\" height=\"24px\"viewBox=\"0 0 24 24\"\n",
              "       width=\"24px\">\n",
              "    <path d=\"M0 0h24v24H0V0z\" fill=\"none\"/>\n",
              "    <path d=\"M18.56 5.44l.94 2.06.94-2.06 2.06-.94-2.06-.94-.94-2.06-.94 2.06-2.06.94zm-11 1L8.5 8.5l.94-2.06 2.06-.94-2.06-.94L8.5 2.5l-.94 2.06-2.06.94zm10 10l.94 2.06.94-2.06 2.06-.94-2.06-.94-.94-2.06-.94 2.06-2.06.94z\"/><path d=\"M17.41 7.96l-1.37-1.37c-.4-.4-.92-.59-1.43-.59-.52 0-1.04.2-1.43.59L10.3 9.45l-7.72 7.72c-.78.78-.78 2.05 0 2.83L4 21.41c.39.39.9.59 1.41.59.51 0 1.02-.2 1.41-.59l7.78-7.78 2.81-2.81c.8-.78.8-2.07 0-2.86zM5.41 20L4 18.59l7.72-7.72 1.47 1.35L5.41 20z\"/>\n",
              "  </svg>\n",
              "      </button>\n",
              "      \n",
              "  <style>\n",
              "    .colab-df-container {\n",
              "      display:flex;\n",
              "      flex-wrap:wrap;\n",
              "      gap: 12px;\n",
              "    }\n",
              "\n",
              "    .colab-df-convert {\n",
              "      background-color: #E8F0FE;\n",
              "      border: none;\n",
              "      border-radius: 50%;\n",
              "      cursor: pointer;\n",
              "      display: none;\n",
              "      fill: #1967D2;\n",
              "      height: 32px;\n",
              "      padding: 0 0 0 0;\n",
              "      width: 32px;\n",
              "    }\n",
              "\n",
              "    .colab-df-convert:hover {\n",
              "      background-color: #E2EBFA;\n",
              "      box-shadow: 0px 1px 2px rgba(60, 64, 67, 0.3), 0px 1px 3px 1px rgba(60, 64, 67, 0.15);\n",
              "      fill: #174EA6;\n",
              "    }\n",
              "\n",
              "    [theme=dark] .colab-df-convert {\n",
              "      background-color: #3B4455;\n",
              "      fill: #D2E3FC;\n",
              "    }\n",
              "\n",
              "    [theme=dark] .colab-df-convert:hover {\n",
              "      background-color: #434B5C;\n",
              "      box-shadow: 0px 1px 3px 1px rgba(0, 0, 0, 0.15);\n",
              "      filter: drop-shadow(0px 1px 2px rgba(0, 0, 0, 0.3));\n",
              "      fill: #FFFFFF;\n",
              "    }\n",
              "  </style>\n",
              "\n",
              "      <script>\n",
              "        const buttonEl =\n",
              "          document.querySelector('#df-63a8bef4-3d6b-43dd-b58d-5f13f99afd63 button.colab-df-convert');\n",
              "        buttonEl.style.display =\n",
              "          google.colab.kernel.accessAllowed ? 'block' : 'none';\n",
              "\n",
              "        async function convertToInteractive(key) {\n",
              "          const element = document.querySelector('#df-63a8bef4-3d6b-43dd-b58d-5f13f99afd63');\n",
              "          const dataTable =\n",
              "            await google.colab.kernel.invokeFunction('convertToInteractive',\n",
              "                                                     [key], {});\n",
              "          if (!dataTable) return;\n",
              "\n",
              "          const docLinkHtml = 'Like what you see? Visit the ' +\n",
              "            '<a target=\"_blank\" href=https://colab.research.google.com/notebooks/data_table.ipynb>data table notebook</a>'\n",
              "            + ' to learn more about interactive tables.';\n",
              "          element.innerHTML = '';\n",
              "          dataTable['output_type'] = 'display_data';\n",
              "          await google.colab.output.renderOutput(dataTable, element);\n",
              "          const docLink = document.createElement('div');\n",
              "          docLink.innerHTML = docLinkHtml;\n",
              "          element.appendChild(docLink);\n",
              "        }\n",
              "      </script>\n",
              "    </div>\n",
              "  </div>\n",
              "  "
            ]
          },
          "metadata": {},
          "execution_count": 346
        }
      ],
      "source": [
        "pd.crosstab(y_test, y_predict, rownames=['Actual'], colnames=['Predicted'])"
      ]
    },
    {
      "cell_type": "code",
      "execution_count": null,
      "metadata": {
        "colab": {
          "base_uri": "https://localhost:8080/",
          "height": 302
        },
        "id": "kL94O1Qm-b7W",
        "outputId": "12e7c085-6a61-45a4-9d26-fb3bf30a5bad"
      },
      "outputs": [
        {
          "output_type": "execute_result",
          "data": {
            "text/plain": [
              "Text(30.5, 0.5, 'actual')"
            ]
          },
          "metadata": {},
          "execution_count": 347
        },
        {
          "output_type": "display_data",
          "data": {
            "text/plain": [
              "<Figure size 432x288 with 2 Axes>"
            ],
            "image/png": "[encoded data removed]"
          },
          "metadata": {}
        }
      ],
      "source": [
        "cm = confusion_matrix(y_test, y_predict)\n",
        "sns.heatmap(cm, annot=True)\n",
        "plt.xlabel(\"predicted\")\n",
        "plt.ylabel(\"actual\")"
      ]
    },
    {
      "cell_type": "markdown",
      "metadata": {
        "id": "uPCLugCy-gpF"
      },
      "source": [
        "**Learning Curve**\n",
        "\n",
        "There seems to be no improvement in the test accuracy score if we increase the training set size. It seems to get worse if the size is greater than 3000. "
      ]
    },
    {
      "cell_type": "code",
      "execution_count": null,
      "metadata": {
        "colab": {
          "base_uri": "https://localhost:8080/",
          "height": 318
        },
        "id": "R3odRN-8-iZp",
        "outputId": "f85c3cce-852d-4b72-f176-587214034932"
      },
      "outputs": [
        {
          "output_type": "execute_result",
          "data": {
            "text/plain": [
              "<matplotlib.legend.Legend at 0x7f0832f3f790>"
            ]
          },
          "metadata": {},
          "execution_count": 348
        },
        {
          "output_type": "display_data",
          "data": {
            "text/plain": [
              "<Figure size 432x288 with 1 Axes>"
            ],
            "image/png": "[encoded data removed]"
          },
          "metadata": {}
        }
      ],
      "source": [
        "train_sizes, train_scores, test_scores = learning_curve(clf, X_train, y_train, cv=10, scoring='accuracy')\n",
        "train_scores_mean = np.mean(train_scores, axis=1)\n",
        "test_scores = np.mean(test_scores, axis=1)\n",
        "\n",
        "plt.plot(train_sizes, train_scores_mean, label='Train')\n",
        "plt.plot(train_sizes, test_scores, label='Test')\n",
        "plt.title('Learning Curve: SVC Classification (Modified Subject_Race)')\n",
        "plt.xlabel('Train Set Size')\n",
        "plt.ylabel('Accuracy')\n",
        "plt.legend()"
      ]
    },
    {
      "cell_type": "markdown",
      "metadata": {
        "id": "rjs5EiMGXI3q"
      },
      "source": [
        "#Decision Tree Classification\n",
        "\n",
        "Now we will us the Decision Tree Classification model to see how it performance and accuracy score. "
      ]
    },
    {
      "cell_type": "code",
      "execution_count": null,
      "metadata": {
        "id": "LchJu7kxWT1q"
      },
      "outputs": [],
      "source": [
        "predictors = ['outcome', 'subject_age']\n",
        "X = df[predictors].values\n",
        "y = df['subject_race'].values\n",
        "\n",
        "indexes = np.random.choice(y.size, size=5000)\n",
        "X_mini = X[indexes]\n",
        "y_mini = y[indexes]\n",
        "\n",
        "X_train, X_test, y_train, y_test = train_test_split(X_mini, y_mini, test_size=0.30, random_state=0)\n",
        "\n",
        "clf = DecisionTreeClassifier(max_depth = 2, random_state=0)\n",
        "clf.fit(X_train, y_train)\n",
        "y_predict = clf.predict(X_test)"
      ]
    },
    {
      "cell_type": "code",
      "execution_count": null,
      "metadata": {
        "colab": {
          "base_uri": "https://localhost:8080/",
          "height": 460
        },
        "id": "53w78rUTX5W9",
        "outputId": "34ddb2b9-c50a-47b8-d35d-3da412c322c7"
      },
      "outputs": [
        {
          "output_type": "execute_result",
          "data": {
            "text/plain": [
              "<graphviz.files.Source at 0x7f0832f326d0>"
            ],
            "image/svg+xml": "<?xml version=\"1.0\" encoding=\"UTF-8\" standalone=\"no\"?>\n<!DOCTYPE svg PUBLIC \"-//W3C//DTD SVG 1.1//EN\"\n \"http://www.w3.org/Graphics/SVG/1.1/DTD/svg11.dtd\">\n<!-- Generated by graphviz version 2.43.0 (0)\n -->\n<!-- Title: Tree Pages: 1 -->\n<svg width=\"983pt\" height=\"314pt\"\n viewBox=\"0.00 0.00 982.50 314.00\" xmlns=\"http://www.w3.org/2000/svg\" xmlns:xlink=\"http://www.w3.org/1999/xlink\">\n<g id=\"graph0\" class=\"graph\" transform=\"scale(1 1) rotate(0) translate(4 310)\">\n<title>Tree</title>\n<polygon fill=\"white\" stroke=\"transparent\" points=\"-4,4 -4,-310 978.5,-310 978.5,4 -4,4\"/>\n<!-- 0 -->\n<g id=\"node1\" class=\"node\">\n<title>0</title>\n<path fill=\"#f8c7ed\" stroke=\"black\" d=\"M593,-306C593,-306 384,-306 384,-306 378,-306 372,-300 372,-294 372,-294 372,-235 372,-235 372,-229 378,-223 384,-223 384,-223 593,-223 593,-223 599,-223 605,-229 605,-235 605,-235 605,-294 605,-294 605,-300 599,-306 593,-306\"/>\n<text text-anchor=\"start\" x=\"431\" y=\"-290.8\" font-family=\"Helvetica,sans-Serif\" font-size=\"14.00\">subject_age ≤ 25.5</text>\n<text text-anchor=\"start\" x=\"456.5\" y=\"-275.8\" font-family=\"Helvetica,sans-Serif\" font-size=\"14.00\">gini = 0.75</text>\n<text text-anchor=\"start\" x=\"431.5\" y=\"-260.8\" font-family=\"Helvetica,sans-Serif\" font-size=\"14.00\">samples = 100.0%</text>\n<text text-anchor=\"start\" x=\"380\" y=\"-245.8\" font-family=\"Helvetica,sans-Serif\" font-size=\"14.00\">value = [0.17, 0.17, 0.13, 0.12, 0.41]</text>\n<text text-anchor=\"start\" x=\"449.5\" y=\"-230.8\" font-family=\"Helvetica,sans-Serif\" font-size=\"14.00\">class = other</text>\n</g>\n<!-- 1 -->\n<g id=\"node2\" class=\"node\">\n<title>1</title>\n<path fill=\"#fce8f8\" stroke=\"black\" d=\"M468,-187C468,-187 259,-187 259,-187 253,-187 247,-181 247,-175 247,-175 247,-116 247,-116 247,-110 253,-104 259,-104 259,-104 468,-104 468,-104 474,-104 480,-110 480,-116 480,-116 480,-175 480,-175 480,-181 474,-187 468,-187\"/>\n<text text-anchor=\"start\" x=\"320\" y=\"-171.8\" font-family=\"Helvetica,sans-Serif\" font-size=\"14.00\">outcome ≤ 1.5</text>\n<text text-anchor=\"start\" x=\"331.5\" y=\"-156.8\" font-family=\"Helvetica,sans-Serif\" font-size=\"14.00\">gini = 0.78</text>\n<text text-anchor=\"start\" x=\"310.5\" y=\"-141.8\" font-family=\"Helvetica,sans-Serif\" font-size=\"14.00\">samples = 21.3%</text>\n<text text-anchor=\"start\" x=\"255\" y=\"-126.8\" font-family=\"Helvetica,sans-Serif\" font-size=\"14.00\">value = [0.15, 0.23, 0.18, 0.12, 0.32]</text>\n<text text-anchor=\"start\" x=\"324.5\" y=\"-111.8\" font-family=\"Helvetica,sans-Serif\" font-size=\"14.00\">class = other</text>\n</g>\n<!-- 0&#45;&gt;1 -->\n<g id=\"edge1\" class=\"edge\">\n<title>0&#45;&gt;1</title>\n<path fill=\"none\" stroke=\"black\" d=\"M445.13,-222.91C435.15,-213.56 424.44,-203.54 414.17,-193.93\"/>\n<polygon fill=\"black\" stroke=\"black\" points=\"416.48,-191.3 406.79,-187.02 411.7,-196.41 416.48,-191.3\"/>\n<text text-anchor=\"middle\" x=\"407.62\" y=\"-208.31\" font-family=\"Helvetica,sans-Serif\" font-size=\"14.00\">True</text>\n</g>\n<!-- 4 -->\n<g id=\"node5\" class=\"node\">\n<title>4</title>\n<path fill=\"#f7c3ec\" stroke=\"black\" d=\"M719,-187C719,-187 510,-187 510,-187 504,-187 498,-181 498,-175 498,-175 498,-116 498,-116 498,-110 504,-104 510,-104 510,-104 719,-104 719,-104 725,-104 731,-110 731,-116 731,-116 731,-175 731,-175 731,-181 725,-187 719,-187\"/>\n<text text-anchor=\"start\" x=\"571\" y=\"-171.8\" font-family=\"Helvetica,sans-Serif\" font-size=\"14.00\">outcome ≤ 1.5</text>\n<text text-anchor=\"start\" x=\"582.5\" y=\"-156.8\" font-family=\"Helvetica,sans-Serif\" font-size=\"14.00\">gini = 0.73</text>\n<text text-anchor=\"start\" x=\"561.5\" y=\"-141.8\" font-family=\"Helvetica,sans-Serif\" font-size=\"14.00\">samples = 78.7%</text>\n<text text-anchor=\"start\" x=\"506\" y=\"-126.8\" font-family=\"Helvetica,sans-Serif\" font-size=\"14.00\">value = [0.18, 0.15, 0.12, 0.12, 0.43]</text>\n<text text-anchor=\"start\" x=\"575.5\" y=\"-111.8\" font-family=\"Helvetica,sans-Serif\" font-size=\"14.00\">class = other</text>\n</g>\n<!-- 0&#45;&gt;4 -->\n<g id=\"edge4\" class=\"edge\">\n<title>0&#45;&gt;4</title>\n<path fill=\"none\" stroke=\"black\" d=\"M532.22,-222.91C542.28,-213.56 553.07,-203.54 563.42,-193.93\"/>\n<polygon fill=\"black\" stroke=\"black\" points=\"565.92,-196.39 570.86,-187.02 561.15,-191.26 565.92,-196.39\"/>\n<text text-anchor=\"middle\" x=\"569.94\" y=\"-208.3\" font-family=\"Helvetica,sans-Serif\" font-size=\"14.00\">False</text>\n</g>\n<!-- 2 -->\n<g id=\"node3\" class=\"node\">\n<title>2</title>\n<path fill=\"#fadbf3\" stroke=\"black\" d=\"M221,-68C221,-68 12,-68 12,-68 6,-68 0,-62 0,-56 0,-56 0,-12 0,-12 0,-6 6,0 12,0 12,0 221,0 221,0 227,0 233,-6 233,-12 233,-12 233,-56 233,-56 233,-62 227,-68 221,-68\"/>\n<text text-anchor=\"start\" x=\"84.5\" y=\"-52.8\" font-family=\"Helvetica,sans-Serif\" font-size=\"14.00\">gini = 0.77</text>\n<text text-anchor=\"start\" x=\"63.5\" y=\"-37.8\" font-family=\"Helvetica,sans-Serif\" font-size=\"14.00\">samples = 14.3%</text>\n<text text-anchor=\"start\" x=\"8\" y=\"-22.8\" font-family=\"Helvetica,sans-Serif\" font-size=\"14.00\">value = [0.17, 0.19, 0.18, 0.13, 0.34]</text>\n<text text-anchor=\"start\" x=\"77.5\" y=\"-7.8\" font-family=\"Helvetica,sans-Serif\" font-size=\"14.00\">class = other</text>\n</g>\n<!-- 1&#45;&gt;2 -->\n<g id=\"edge2\" class=\"edge\">\n<title>1&#45;&gt;2</title>\n<path fill=\"none\" stroke=\"black\" d=\"M271.88,-103.88C248.47,-93.5 223.42,-82.4 200.42,-72.2\"/>\n<polygon fill=\"black\" stroke=\"black\" points=\"201.6,-68.9 191.04,-68.04 198.76,-75.3 201.6,-68.9\"/>\n</g>\n<!-- 3 -->\n<g id=\"node4\" class=\"node\">\n<title>3</title>\n<path fill=\"#f8fef5\" stroke=\"black\" d=\"M465.5,-68C465.5,-68 263.5,-68 263.5,-68 257.5,-68 251.5,-62 251.5,-56 251.5,-56 251.5,-12 251.5,-12 251.5,-6 257.5,0 263.5,0 263.5,0 465.5,0 465.5,0 471.5,0 477.5,-6 477.5,-12 477.5,-12 477.5,-56 477.5,-56 477.5,-62 471.5,-68 465.5,-68\"/>\n<text text-anchor=\"start\" x=\"332.5\" y=\"-52.8\" font-family=\"Helvetica,sans-Serif\" font-size=\"14.00\">gini = 0.76</text>\n<text text-anchor=\"start\" x=\"315\" y=\"-37.8\" font-family=\"Helvetica,sans-Serif\" font-size=\"14.00\">samples = 7.0%</text>\n<text text-anchor=\"start\" x=\"259.5\" y=\"-22.8\" font-family=\"Helvetica,sans-Serif\" font-size=\"14.00\">value = [0.11, 0.32, 0.18, 0.1, 0.28]</text>\n<text text-anchor=\"start\" x=\"325\" y=\"-7.8\" font-family=\"Helvetica,sans-Serif\" font-size=\"14.00\">class = black</text>\n</g>\n<!-- 1&#45;&gt;3 -->\n<g id=\"edge3\" class=\"edge\">\n<title>1&#45;&gt;3</title>\n<path fill=\"none\" stroke=\"black\" d=\"M363.87,-103.73C363.95,-95.52 364.03,-86.86 364.1,-78.56\"/>\n<polygon fill=\"black\" stroke=\"black\" points=\"367.6,-78.33 364.2,-68.3 360.6,-78.27 367.6,-78.33\"/>\n</g>\n<!-- 5 -->\n<g id=\"node6\" class=\"node\">\n<title>5</title>\n<path fill=\"#f8c6ed\" stroke=\"black\" d=\"M718,-68C718,-68 509,-68 509,-68 503,-68 497,-62 497,-56 497,-56 497,-12 497,-12 497,-6 503,0 509,0 509,0 718,0 718,0 724,0 730,-6 730,-12 730,-12 730,-56 730,-56 730,-62 724,-68 718,-68\"/>\n<text text-anchor=\"start\" x=\"581.5\" y=\"-52.8\" font-family=\"Helvetica,sans-Serif\" font-size=\"14.00\">gini = 0.73</text>\n<text text-anchor=\"start\" x=\"560.5\" y=\"-37.8\" font-family=\"Helvetica,sans-Serif\" font-size=\"14.00\">samples = 58.2%</text>\n<text text-anchor=\"start\" x=\"505\" y=\"-22.8\" font-family=\"Helvetica,sans-Serif\" font-size=\"14.00\">value = [0.19, 0.12, 0.12, 0.13, 0.42]</text>\n<text text-anchor=\"start\" x=\"574.5\" y=\"-7.8\" font-family=\"Helvetica,sans-Serif\" font-size=\"14.00\">class = other</text>\n</g>\n<!-- 4&#45;&gt;5 -->\n<g id=\"edge5\" class=\"edge\">\n<title>4&#45;&gt;5</title>\n<path fill=\"none\" stroke=\"black\" d=\"M614.13,-103.73C614.05,-95.52 613.97,-86.86 613.9,-78.56\"/>\n<polygon fill=\"black\" stroke=\"black\" points=\"617.4,-78.27 613.8,-68.3 610.4,-78.33 617.4,-78.27\"/>\n</g>\n<!-- 6 -->\n<g id=\"node7\" class=\"node\">\n<title>6</title>\n<path fill=\"#f8c7ed\" stroke=\"black\" d=\"M962.5,-68C962.5,-68 760.5,-68 760.5,-68 754.5,-68 748.5,-62 748.5,-56 748.5,-56 748.5,-12 748.5,-12 748.5,-6 754.5,0 760.5,0 760.5,0 962.5,0 962.5,0 968.5,0 974.5,-6 974.5,-12 974.5,-12 974.5,-56 974.5,-56 974.5,-62 968.5,-68 962.5,-68\"/>\n<text text-anchor=\"start\" x=\"829.5\" y=\"-52.8\" font-family=\"Helvetica,sans-Serif\" font-size=\"14.00\">gini = 0.72</text>\n<text text-anchor=\"start\" x=\"808.5\" y=\"-37.8\" font-family=\"Helvetica,sans-Serif\" font-size=\"14.00\">samples = 20.5%</text>\n<text text-anchor=\"start\" x=\"756.5\" y=\"-22.8\" font-family=\"Helvetica,sans-Serif\" font-size=\"14.00\">value = [0.13, 0.21, 0.12, 0.1, 0.44]</text>\n<text text-anchor=\"start\" x=\"822.5\" y=\"-7.8\" font-family=\"Helvetica,sans-Serif\" font-size=\"14.00\">class = other</text>\n</g>\n<!-- 4&#45;&gt;6 -->\n<g id=\"edge6\" class=\"edge\">\n<title>4&#45;&gt;6</title>\n<path fill=\"none\" stroke=\"black\" d=\"M706.12,-103.88C729.53,-93.5 754.58,-82.4 777.58,-72.2\"/>\n<polygon fill=\"black\" stroke=\"black\" points=\"779.24,-75.3 786.96,-68.04 776.4,-68.9 779.24,-75.3\"/>\n</g>\n</g>\n</svg>\n"
          },
          "metadata": {},
          "execution_count": 350
        }
      ],
      "source": [
        "target_names = ['asian/pacific islander', 'black','hispanic', 'white', 'other']\n",
        "n = export_graphviz(clf,precision=2, feature_names=predictors, proportion=True, class_names=target_names, filled=True, rounded=True, special_characters=True)\n",
        "graph = graphviz.Source(n)\n",
        "graph"
      ]
    },
    {
      "cell_type": "markdown",
      "metadata": {
        "id": "IWZHPBBIXURQ"
      },
      "source": [
        "**Accuracy**\n",
        "\n",
        "Our accuracy of this model performed worse that the KNN and SVC model. "
      ]
    },
    {
      "cell_type": "code",
      "execution_count": null,
      "metadata": {
        "colab": {
          "base_uri": "https://localhost:8080/"
        },
        "id": "XJAzodyW8WdW",
        "outputId": "f491faaa-cc7e-4ec1-fa5a-c02072565a17"
      },
      "outputs": [
        {
          "output_type": "stream",
          "name": "stdout",
          "text": [
            "Accuracy: 0.41\n"
          ]
        }
      ],
      "source": [
        "print('Accuracy: {:.2f}'.format((y_predict == y_test).mean()))"
      ]
    },
    {
      "cell_type": "markdown",
      "metadata": {
        "id": "AA_U07X5a2a8"
      },
      "source": [
        "**Confusion Matrix**\n",
        "\n",
        "There appears to be a pattern. Our models are predicting race to be White at a higher frequency. "
      ]
    },
    {
      "cell_type": "code",
      "execution_count": null,
      "metadata": {
        "colab": {
          "base_uri": "https://localhost:8080/",
          "height": 238
        },
        "id": "gWpGhJPkawtO",
        "outputId": "30133eac-24e3-429b-febf-8ecdcfc288b2"
      },
      "outputs": [
        {
          "output_type": "execute_result",
          "data": {
            "text/plain": [
              "Predicted   1    4\n",
              "Actual            \n",
              "0          11  253\n",
              "1          28  229\n",
              "2          13  170\n",
              "3          11  168\n",
              "4          27  590"
            ],
            "text/html": [
              "\n",
              "  <div id=\"df-58f73b9f-3fa6-4a6c-ac15-67f4bfecef89\">\n",
              "    <div class=\"colab-df-container\">\n",
              "      <div>\n",
              "<style scoped>\n",
              "    .dataframe tbody tr th:only-of-type {\n",
              "        vertical-align: middle;\n",
              "    }\n",
              "\n",
              "    .dataframe tbody tr th {\n",
              "        vertical-align: top;\n",
              "    }\n",
              "\n",
              "    .dataframe thead th {\n",
              "        text-align: right;\n",
              "    }\n",
              "</style>\n",
              "<table border=\"1\" class=\"dataframe\">\n",
              "  <thead>\n",
              "    <tr style=\"text-align: right;\">\n",
              "      <th>Predicted</th>\n",
              "      <th>1</th>\n",
              "      <th>4</th>\n",
              "    </tr>\n",
              "    <tr>\n",
              "      <th>Actual</th>\n",
              "      <th></th>\n",
              "      <th></th>\n",
              "    </tr>\n",
              "  </thead>\n",
              "  <tbody>\n",
              "    <tr>\n",
              "      <th>0</th>\n",
              "      <td>11</td>\n",
              "      <td>253</td>\n",
              "    </tr>\n",
              "    <tr>\n",
              "      <th>1</th>\n",
              "      <td>28</td>\n",
              "      <td>229</td>\n",
              "    </tr>\n",
              "    <tr>\n",
              "      <th>2</th>\n",
              "      <td>13</td>\n",
              "      <td>170</td>\n",
              "    </tr>\n",
              "    <tr>\n",
              "      <th>3</th>\n",
              "      <td>11</td>\n",
              "      <td>168</td>\n",
              "    </tr>\n",
              "    <tr>\n",
              "      <th>4</th>\n",
              "      <td>27</td>\n",
              "      <td>590</td>\n",
              "    </tr>\n",
              "  </tbody>\n",
              "</table>\n",
              "</div>\n",
              "      <button class=\"colab-df-convert\" onclick=\"convertToInteractive('df-58f73b9f-3fa6-4a6c-ac15-67f4bfecef89')\"\n",
              "              title=\"Convert this dataframe to an interactive table.\"\n",
              "              style=\"display:none;\">\n",
              "        \n",
              "  <svg xmlns=\"http://www.w3.org/2000/svg\" height=\"24px\"viewBox=\"0 0 24 24\"\n",
              "       width=\"24px\">\n",
              "    <path d=\"M0 0h24v24H0V0z\" fill=\"none\"/>\n",
              "    <path d=\"M18.56 5.44l.94 2.06.94-2.06 2.06-.94-2.06-.94-.94-2.06-.94 2.06-2.06.94zm-11 1L8.5 8.5l.94-2.06 2.06-.94-2.06-.94L8.5 2.5l-.94 2.06-2.06.94zm10 10l.94 2.06.94-2.06 2.06-.94-2.06-.94-.94-2.06-.94 2.06-2.06.94z\"/><path d=\"M17.41 7.96l-1.37-1.37c-.4-.4-.92-.59-1.43-.59-.52 0-1.04.2-1.43.59L10.3 9.45l-7.72 7.72c-.78.78-.78 2.05 0 2.83L4 21.41c.39.39.9.59 1.41.59.51 0 1.02-.2 1.41-.59l7.78-7.78 2.81-2.81c.8-.78.8-2.07 0-2.86zM5.41 20L4 18.59l7.72-7.72 1.47 1.35L5.41 20z\"/>\n",
              "  </svg>\n",
              "      </button>\n",
              "      \n",
              "  <style>\n",
              "    .colab-df-container {\n",
              "      display:flex;\n",
              "      flex-wrap:wrap;\n",
              "      gap: 12px;\n",
              "    }\n",
              "\n",
              "    .colab-df-convert {\n",
              "      background-color: #E8F0FE;\n",
              "      border: none;\n",
              "      border-radius: 50%;\n",
              "      cursor: pointer;\n",
              "      display: none;\n",
              "      fill: #1967D2;\n",
              "      height: 32px;\n",
              "      padding: 0 0 0 0;\n",
              "      width: 32px;\n",
              "    }\n",
              "\n",
              "    .colab-df-convert:hover {\n",
              "      background-color: #E2EBFA;\n",
              "      box-shadow: 0px 1px 2px rgba(60, 64, 67, 0.3), 0px 1px 3px 1px rgba(60, 64, 67, 0.15);\n",
              "      fill: #174EA6;\n",
              "    }\n",
              "\n",
              "    [theme=dark] .colab-df-convert {\n",
              "      background-color: #3B4455;\n",
              "      fill: #D2E3FC;\n",
              "    }\n",
              "\n",
              "    [theme=dark] .colab-df-convert:hover {\n",
              "      background-color: #434B5C;\n",
              "      box-shadow: 0px 1px 3px 1px rgba(0, 0, 0, 0.15);\n",
              "      filter: drop-shadow(0px 1px 2px rgba(0, 0, 0, 0.3));\n",
              "      fill: #FFFFFF;\n",
              "    }\n",
              "  </style>\n",
              "\n",
              "      <script>\n",
              "        const buttonEl =\n",
              "          document.querySelector('#df-58f73b9f-3fa6-4a6c-ac15-67f4bfecef89 button.colab-df-convert');\n",
              "        buttonEl.style.display =\n",
              "          google.colab.kernel.accessAllowed ? 'block' : 'none';\n",
              "\n",
              "        async function convertToInteractive(key) {\n",
              "          const element = document.querySelector('#df-58f73b9f-3fa6-4a6c-ac15-67f4bfecef89');\n",
              "          const dataTable =\n",
              "            await google.colab.kernel.invokeFunction('convertToInteractive',\n",
              "                                                     [key], {});\n",
              "          if (!dataTable) return;\n",
              "\n",
              "          const docLinkHtml = 'Like what you see? Visit the ' +\n",
              "            '<a target=\"_blank\" href=https://colab.research.google.com/notebooks/data_table.ipynb>data table notebook</a>'\n",
              "            + ' to learn more about interactive tables.';\n",
              "          element.innerHTML = '';\n",
              "          dataTable['output_type'] = 'display_data';\n",
              "          await google.colab.output.renderOutput(dataTable, element);\n",
              "          const docLink = document.createElement('div');\n",
              "          docLink.innerHTML = docLinkHtml;\n",
              "          element.appendChild(docLink);\n",
              "        }\n",
              "      </script>\n",
              "    </div>\n",
              "  </div>\n",
              "  "
            ]
          },
          "metadata": {},
          "execution_count": 352
        }
      ],
      "source": [
        "pd.crosstab(y_test, y_predict, rownames=['Actual'], colnames=['Predicted'])"
      ]
    },
    {
      "cell_type": "code",
      "execution_count": null,
      "metadata": {
        "colab": {
          "base_uri": "https://localhost:8080/",
          "height": 302
        },
        "id": "G7w2vnfbawDv",
        "outputId": "282ec00a-1086-486a-f885-b67a587324b0"
      },
      "outputs": [
        {
          "output_type": "execute_result",
          "data": {
            "text/plain": [
              "Text(30.5, 0.5, 'actual')"
            ]
          },
          "metadata": {},
          "execution_count": 353
        },
        {
          "output_type": "display_data",
          "data": {
            "text/plain": [
              "<Figure size 432x288 with 2 Axes>"
            ],
            "image/png": "[encoded data removed]"
          },
          "metadata": {}
        }
      ],
      "source": [
        "cm = confusion_matrix(y_test, y_predict)\n",
        "sns.heatmap(cm, annot=True)\n",
        "plt.xlabel(\"predicted\")\n",
        "plt.ylabel(\"actual\")"
      ]
    },
    {
      "cell_type": "markdown",
      "metadata": {
        "id": "MKQMPNxg-7Eo"
      },
      "source": [
        "**Learning Curve**\n",
        "\n",
        "We see and improvement of accuracy score as the training set size increases. We also see that the difference between the training and test score becomes smaller as the size increases. "
      ]
    },
    {
      "cell_type": "code",
      "execution_count": null,
      "metadata": {
        "colab": {
          "base_uri": "https://localhost:8080/",
          "height": 318
        },
        "id": "yjR5TEYq-6vv",
        "outputId": "ffaada0f-82d5-43d2-d3ce-52e4851775a8"
      },
      "outputs": [
        {
          "output_type": "execute_result",
          "data": {
            "text/plain": [
              "<matplotlib.legend.Legend at 0x7f0832f434f0>"
            ]
          },
          "metadata": {},
          "execution_count": 354
        },
        {
          "output_type": "display_data",
          "data": {
            "text/plain": [
              "<Figure size 432x288 with 1 Axes>"
            ],
            "image/png": "[encoded data removed]"
          },
          "metadata": {}
        }
      ],
      "source": [
        "train_sizes, train_scores, test_scores = learning_curve(clf, X_train, y_train, cv=10, scoring='accuracy')\n",
        "train_scores_mean = np.mean(train_scores, axis=1)\n",
        "test_scores = np.mean(test_scores, axis=1)\n",
        "\n",
        "\n",
        "plt.plot(train_sizes, train_scores_mean, label='Train')\n",
        "plt.plot(train_sizes, test_scores, label='Test')\n",
        "plt.title('Learning Curve: Decision Tree Classification (Modified Subject_Race)')\n",
        "plt.xlabel('Train Set Size')\n",
        "plt.ylabel('Accuracy')\n",
        "plt.legend()"
      ]
    },
    {
      "cell_type": "markdown",
      "metadata": {
        "id": "MeAsB6PPRhDE"
      },
      "source": [
        "Overall our three models had a accuracy percentage that was < 50% we saw that adding more features to our model was neither and advantage or disadvantage. Although we saw a slight increase in accuracy with using a Decision Tree & SVC model vs KNN, it mostly predicted two subject races (Other and White). \n",
        "\n",
        "It may be the case that most of the data on this dataset contains more reports of White subjects than others. \n",
        "\n",
        "We will repeat the same models but now we will determine if there is a differnce in accuracy when we predict if the subject's race is White or Other. Other will be a combination of races in the dataset that are not White. "
      ]
    },
    {
      "cell_type": "code",
      "execution_count": null,
      "metadata": {
        "id": "Sc1FtpriTIp6"
      },
      "outputs": [],
      "source": [
        "other_df = df\n",
        "other_df.subject_race = other_df.subject_race.replace({1:0, 2:0, 3:0, 4:1})"
      ]
    },
    {
      "cell_type": "markdown",
      "metadata": {
        "id": "1R640pXJSzyL"
      },
      "source": [
        "#KNN Classification\n",
        "\n",
        "We will do another KNN Classification to predict if the subject_race is White or Other. We will see how tuning the target variable effects the accuracy score. Again, we will be using a smaller random sample from our data, 1500."
      ]
    },
    {
      "cell_type": "markdown",
      "metadata": {
        "id": "brudVdR8WsGO"
      },
      "source": [
        "**Accuracy**\n",
        "\n",
        "By using our new target variable we see that our accuracy score increased. There is a huge difference between this accuracy score from the previous ones. "
      ]
    },
    {
      "cell_type": "code",
      "execution_count": null,
      "metadata": {
        "colab": {
          "base_uri": "https://localhost:8080/"
        },
        "id": "Ez07_2i_NhqU",
        "outputId": "89326514-d58e-4ba3-b42e-c7070b9cc5ad"
      },
      "outputs": [
        {
          "output_type": "stream",
          "name": "stdout",
          "text": [
            "Accuracy: 0.57\n"
          ]
        }
      ],
      "source": [
        "np.random.seed(42)  \n",
        "\n",
        "predictors = ['outcome', 'subject_age']\n",
        "X = other_df[predictors].values\n",
        "y = other_df['subject_race'].values\n",
        "\n",
        "indexes = np.random.choice(y.size, size=5000)\n",
        "X_mini = X[indexes]\n",
        "y_mini = y[indexes]\n",
        "\n",
        "X_train, X_test, y_train, y_test = train_test_split(X_mini, y_mini, test_size=0.30, random_state=42)\n",
        "\n",
        "scaler = StandardScaler()\n",
        "\n",
        "X_train = scaler.fit_transform(X_train)\n",
        "X_test = scaler.transform(X_test)\n",
        "\n",
        "#Getting the best K\n",
        "n = 30\n",
        "test_acc = []\n",
        "ks = np.arange(1, n+1, 2)\n",
        "for k in ks:\n",
        "    knn = KNeighborsClassifier(n_neighbors=k, algorithm='brute', metric='minkowski')\n",
        "    acc_te = get_train_test_accuracy(knn, X_train, X_test, y_train, y_test)\n",
        "    test_acc.append(acc_te)\n",
        "best_k = get_best(ks, test_acc)\n",
        "\n",
        "\n",
        "knn = KNeighborsClassifier(n_neighbors= best_k, algorithm='brute', metric='minkowski')\n",
        "knn.fit(X_train, y_train)\n",
        "y_predict = knn.predict(X_test)\n",
        "\n",
        "print('Accuracy: {:.2f}'.format((y_predict == y_test).mean()))\n"
      ]
    },
    {
      "cell_type": "markdown",
      "metadata": {
        "id": "MWurGuU0al4z"
      },
      "source": [
        "**Confusion Matrix**\n",
        "\n",
        "Now that we are only predicting if the subject is White or Other we see our model make less predictions on the subject being White. "
      ]
    },
    {
      "cell_type": "code",
      "execution_count": null,
      "metadata": {
        "colab": {
          "base_uri": "https://localhost:8080/",
          "height": 143
        },
        "id": "xd8zMoRDakKW",
        "outputId": "3462727d-60d3-49e1-8946-d950d2458c5c"
      },
      "outputs": [
        {
          "output_type": "execute_result",
          "data": {
            "text/plain": [
              "Predicted    0    1\n",
              "Actual             \n",
              "0          728  148\n",
              "1          492  132"
            ],
            "text/html": [
              "\n",
              "  <div id=\"df-4d173cd0-41fb-4a4f-a56a-285adee47254\">\n",
              "    <div class=\"colab-df-container\">\n",
              "      <div>\n",
              "<style scoped>\n",
              "    .dataframe tbody tr th:only-of-type {\n",
              "        vertical-align: middle;\n",
              "    }\n",
              "\n",
              "    .dataframe tbody tr th {\n",
              "        vertical-align: top;\n",
              "    }\n",
              "\n",
              "    .dataframe thead th {\n",
              "        text-align: right;\n",
              "    }\n",
              "</style>\n",
              "<table border=\"1\" class=\"dataframe\">\n",
              "  <thead>\n",
              "    <tr style=\"text-align: right;\">\n",
              "      <th>Predicted</th>\n",
              "      <th>0</th>\n",
              "      <th>1</th>\n",
              "    </tr>\n",
              "    <tr>\n",
              "      <th>Actual</th>\n",
              "      <th></th>\n",
              "      <th></th>\n",
              "    </tr>\n",
              "  </thead>\n",
              "  <tbody>\n",
              "    <tr>\n",
              "      <th>0</th>\n",
              "      <td>728</td>\n",
              "      <td>148</td>\n",
              "    </tr>\n",
              "    <tr>\n",
              "      <th>1</th>\n",
              "      <td>492</td>\n",
              "      <td>132</td>\n",
              "    </tr>\n",
              "  </tbody>\n",
              "</table>\n",
              "</div>\n",
              "      <button class=\"colab-df-convert\" onclick=\"convertToInteractive('df-4d173cd0-41fb-4a4f-a56a-285adee47254')\"\n",
              "              title=\"Convert this dataframe to an interactive table.\"\n",
              "              style=\"display:none;\">\n",
              "        \n",
              "  <svg xmlns=\"http://www.w3.org/2000/svg\" height=\"24px\"viewBox=\"0 0 24 24\"\n",
              "       width=\"24px\">\n",
              "    <path d=\"M0 0h24v24H0V0z\" fill=\"none\"/>\n",
              "    <path d=\"M18.56 5.44l.94 2.06.94-2.06 2.06-.94-2.06-.94-.94-2.06-.94 2.06-2.06.94zm-11 1L8.5 8.5l.94-2.06 2.06-.94-2.06-.94L8.5 2.5l-.94 2.06-2.06.94zm10 10l.94 2.06.94-2.06 2.06-.94-2.06-.94-.94-2.06-.94 2.06-2.06.94z\"/><path d=\"M17.41 7.96l-1.37-1.37c-.4-.4-.92-.59-1.43-.59-.52 0-1.04.2-1.43.59L10.3 9.45l-7.72 7.72c-.78.78-.78 2.05 0 2.83L4 21.41c.39.39.9.59 1.41.59.51 0 1.02-.2 1.41-.59l7.78-7.78 2.81-2.81c.8-.78.8-2.07 0-2.86zM5.41 20L4 18.59l7.72-7.72 1.47 1.35L5.41 20z\"/>\n",
              "  </svg>\n",
              "      </button>\n",
              "      \n",
              "  <style>\n",
              "    .colab-df-container {\n",
              "      display:flex;\n",
              "      flex-wrap:wrap;\n",
              "      gap: 12px;\n",
              "    }\n",
              "\n",
              "    .colab-df-convert {\n",
              "      background-color: #E8F0FE;\n",
              "      border: none;\n",
              "      border-radius: 50%;\n",
              "      cursor: pointer;\n",
              "      display: none;\n",
              "      fill: #1967D2;\n",
              "      height: 32px;\n",
              "      padding: 0 0 0 0;\n",
              "      width: 32px;\n",
              "    }\n",
              "\n",
              "    .colab-df-convert:hover {\n",
              "      background-color: #E2EBFA;\n",
              "      box-shadow: 0px 1px 2px rgba(60, 64, 67, 0.3), 0px 1px 3px 1px rgba(60, 64, 67, 0.15);\n",
              "      fill: #174EA6;\n",
              "    }\n",
              "\n",
              "    [theme=dark] .colab-df-convert {\n",
              "      background-color: #3B4455;\n",
              "      fill: #D2E3FC;\n",
              "    }\n",
              "\n",
              "    [theme=dark] .colab-df-convert:hover {\n",
              "      background-color: #434B5C;\n",
              "      box-shadow: 0px 1px 3px 1px rgba(0, 0, 0, 0.15);\n",
              "      filter: drop-shadow(0px 1px 2px rgba(0, 0, 0, 0.3));\n",
              "      fill: #FFFFFF;\n",
              "    }\n",
              "  </style>\n",
              "\n",
              "      <script>\n",
              "        const buttonEl =\n",
              "          document.querySelector('#df-4d173cd0-41fb-4a4f-a56a-285adee47254 button.colab-df-convert');\n",
              "        buttonEl.style.display =\n",
              "          google.colab.kernel.accessAllowed ? 'block' : 'none';\n",
              "\n",
              "        async function convertToInteractive(key) {\n",
              "          const element = document.querySelector('#df-4d173cd0-41fb-4a4f-a56a-285adee47254');\n",
              "          const dataTable =\n",
              "            await google.colab.kernel.invokeFunction('convertToInteractive',\n",
              "                                                     [key], {});\n",
              "          if (!dataTable) return;\n",
              "\n",
              "          const docLinkHtml = 'Like what you see? Visit the ' +\n",
              "            '<a target=\"_blank\" href=https://colab.research.google.com/notebooks/data_table.ipynb>data table notebook</a>'\n",
              "            + ' to learn more about interactive tables.';\n",
              "          element.innerHTML = '';\n",
              "          dataTable['output_type'] = 'display_data';\n",
              "          await google.colab.output.renderOutput(dataTable, element);\n",
              "          const docLink = document.createElement('div');\n",
              "          docLink.innerHTML = docLinkHtml;\n",
              "          element.appendChild(docLink);\n",
              "        }\n",
              "      </script>\n",
              "    </div>\n",
              "  </div>\n",
              "  "
            ]
          },
          "metadata": {},
          "execution_count": 357
        }
      ],
      "source": [
        "pd.crosstab(y_test, y_predict, rownames=['Actual'], colnames=['Predicted'])"
      ]
    },
    {
      "cell_type": "code",
      "execution_count": null,
      "metadata": {
        "colab": {
          "base_uri": "https://localhost:8080/",
          "height": 302
        },
        "id": "AKwjf4jEaoh4",
        "outputId": "653cc4fa-0e81-46b8-bc57-4be7b34b4c03"
      },
      "outputs": [
        {
          "output_type": "execute_result",
          "data": {
            "text/plain": [
              "Text(30.5, 0.5, 'actual')"
            ]
          },
          "metadata": {},
          "execution_count": 358
        },
        {
          "output_type": "display_data",
          "data": {
            "text/plain": [
              "<Figure size 432x288 with 2 Axes>"
            ],
            "image/png": "[encoded data removed]"
          },
          "metadata": {}
        }
      ],
      "source": [
        "cm = confusion_matrix(y_test, y_predict)\n",
        "sns.heatmap(cm, annot=True)\n",
        "plt.xlabel(\"predicted\")\n",
        "plt.ylabel(\"actual\")"
      ]
    },
    {
      "cell_type": "markdown",
      "metadata": {
        "id": "aSEUllag-t3C"
      },
      "source": [
        "**Learning Curve**\n",
        "\n",
        "The learning curve shows the case of overfitting, high variance. Our test score does not seem to improve and the training set size increases. "
      ]
    },
    {
      "cell_type": "code",
      "execution_count": null,
      "metadata": {
        "colab": {
          "base_uri": "https://localhost:8080/",
          "height": 318
        },
        "id": "gdZKY38K9YVE",
        "outputId": "1dd61276-7c7d-4109-f6a6-ac34bc016450"
      },
      "outputs": [
        {
          "output_type": "execute_result",
          "data": {
            "text/plain": [
              "<matplotlib.legend.Legend at 0x7f0824d08130>"
            ]
          },
          "metadata": {},
          "execution_count": 359
        },
        {
          "output_type": "display_data",
          "data": {
            "text/plain": [
              "<Figure size 432x288 with 1 Axes>"
            ],
            "image/png": "[encoded data removed]"
          },
          "metadata": {}
        }
      ],
      "source": [
        "train_sizes, train_scores, test_scores = learning_curve(knn, X_train, y_train, cv=10, scoring='accuracy')\n",
        "train_scores_mean = np.mean(train_scores, axis=1)\n",
        "test_scores = np.mean(test_scores, axis=1)\n",
        "\n",
        "\n",
        "plt.plot(train_sizes, train_scores_mean, label='Train')\n",
        "plt.plot(train_sizes, test_scores, label='Test')\n",
        "plt.title('Learning Curve: KNN Classification (Modified Subject_Race)')\n",
        "plt.xlabel('Train Set Size')\n",
        "plt.ylabel('Accuracy')\n",
        "plt.legend()"
      ]
    },
    {
      "cell_type": "markdown",
      "metadata": {
        "id": "cizzidYuFJiJ"
      },
      "source": [
        "#Non-Linear SVC Classification\n",
        "\n",
        "Next we will see how the SVC model performs with our target variable. We will also use a random sample of 1500 for this model. "
      ]
    },
    {
      "cell_type": "markdown",
      "metadata": {
        "id": "Wyxkb2YbXC7G"
      },
      "source": [
        "**Accuracy**\n",
        "\n",
        "Again, our model had an improvement in accuracy score. "
      ]
    },
    {
      "cell_type": "code",
      "execution_count": null,
      "metadata": {
        "colab": {
          "base_uri": "https://localhost:8080/"
        },
        "id": "qtVsjLD-FGqV",
        "outputId": "c049b2ce-3355-4429-b0de-d9ca56c860d0"
      },
      "outputs": [
        {
          "output_type": "stream",
          "name": "stdout",
          "text": [
            "Accuracy: 0.60\n"
          ]
        }
      ],
      "source": [
        "np.random.seed(42)  \n",
        "\n",
        "predictors = ['outcome', 'subject_age']\n",
        "X = other_df[predictors].values\n",
        "y = other_df['subject_race'].values\n",
        "\n",
        "indexes = np.random.choice(y.size, size=5000)\n",
        "X_mini = X[indexes]\n",
        "y_mini = y[indexes]\n",
        "\n",
        "X_train, X_test, y_train, y_test = train_test_split(X_mini, y_mini, test_size=0.30, random_state=42)\n",
        "\n",
        "clf = make_pipeline(StandardScaler(), SVC(gamma='scale'))\n",
        "clf.fit(X_train, y_train)\n",
        "y_predict = clf.predict(X_test)\n",
        "print('Accuracy: {:.2f}'.format(accuracy_score(y_test, y_predict)))"
      ]
    },
    {
      "cell_type": "markdown",
      "metadata": {
        "id": "dMjgBBuZaUFH"
      },
      "source": [
        "**Confusion Matrix**\n",
        "\n",
        "Again, we see less instance of our model predicting the subject's race as White. Our model does predict Other as the subject race better than before. "
      ]
    },
    {
      "cell_type": "code",
      "execution_count": null,
      "metadata": {
        "colab": {
          "base_uri": "https://localhost:8080/",
          "height": 143
        },
        "id": "lx7VafttaP13",
        "outputId": "a6a2016d-6173-4926-f90f-b9723d1fe87f"
      },
      "outputs": [
        {
          "output_type": "execute_result",
          "data": {
            "text/plain": [
              "Predicted    0   1\n",
              "Actual            \n",
              "0          864  12\n",
              "1          593  31"
            ],
            "text/html": [
              "\n",
              "  <div id=\"df-32582ce8-4239-442e-8d37-30cf0fc7ab61\">\n",
              "    <div class=\"colab-df-container\">\n",
              "      <div>\n",
              "<style scoped>\n",
              "    .dataframe tbody tr th:only-of-type {\n",
              "        vertical-align: middle;\n",
              "    }\n",
              "\n",
              "    .dataframe tbody tr th {\n",
              "        vertical-align: top;\n",
              "    }\n",
              "\n",
              "    .dataframe thead th {\n",
              "        text-align: right;\n",
              "    }\n",
              "</style>\n",
              "<table border=\"1\" class=\"dataframe\">\n",
              "  <thead>\n",
              "    <tr style=\"text-align: right;\">\n",
              "      <th>Predicted</th>\n",
              "      <th>0</th>\n",
              "      <th>1</th>\n",
              "    </tr>\n",
              "    <tr>\n",
              "      <th>Actual</th>\n",
              "      <th></th>\n",
              "      <th></th>\n",
              "    </tr>\n",
              "  </thead>\n",
              "  <tbody>\n",
              "    <tr>\n",
              "      <th>0</th>\n",
              "      <td>864</td>\n",
              "      <td>12</td>\n",
              "    </tr>\n",
              "    <tr>\n",
              "      <th>1</th>\n",
              "      <td>593</td>\n",
              "      <td>31</td>\n",
              "    </tr>\n",
              "  </tbody>\n",
              "</table>\n",
              "</div>\n",
              "      <button class=\"colab-df-convert\" onclick=\"convertToInteractive('df-32582ce8-4239-442e-8d37-30cf0fc7ab61')\"\n",
              "              title=\"Convert this dataframe to an interactive table.\"\n",
              "              style=\"display:none;\">\n",
              "        \n",
              "  <svg xmlns=\"http://www.w3.org/2000/svg\" height=\"24px\"viewBox=\"0 0 24 24\"\n",
              "       width=\"24px\">\n",
              "    <path d=\"M0 0h24v24H0V0z\" fill=\"none\"/>\n",
              "    <path d=\"M18.56 5.44l.94 2.06.94-2.06 2.06-.94-2.06-.94-.94-2.06-.94 2.06-2.06.94zm-11 1L8.5 8.5l.94-2.06 2.06-.94-2.06-.94L8.5 2.5l-.94 2.06-2.06.94zm10 10l.94 2.06.94-2.06 2.06-.94-2.06-.94-.94-2.06-.94 2.06-2.06.94z\"/><path d=\"M17.41 7.96l-1.37-1.37c-.4-.4-.92-.59-1.43-.59-.52 0-1.04.2-1.43.59L10.3 9.45l-7.72 7.72c-.78.78-.78 2.05 0 2.83L4 21.41c.39.39.9.59 1.41.59.51 0 1.02-.2 1.41-.59l7.78-7.78 2.81-2.81c.8-.78.8-2.07 0-2.86zM5.41 20L4 18.59l7.72-7.72 1.47 1.35L5.41 20z\"/>\n",
              "  </svg>\n",
              "      </button>\n",
              "      \n",
              "  <style>\n",
              "    .colab-df-container {\n",
              "      display:flex;\n",
              "      flex-wrap:wrap;\n",
              "      gap: 12px;\n",
              "    }\n",
              "\n",
              "    .colab-df-convert {\n",
              "      background-color: #E8F0FE;\n",
              "      border: none;\n",
              "      border-radius: 50%;\n",
              "      cursor: pointer;\n",
              "      display: none;\n",
              "      fill: #1967D2;\n",
              "      height: 32px;\n",
              "      padding: 0 0 0 0;\n",
              "      width: 32px;\n",
              "    }\n",
              "\n",
              "    .colab-df-convert:hover {\n",
              "      background-color: #E2EBFA;\n",
              "      box-shadow: 0px 1px 2px rgba(60, 64, 67, 0.3), 0px 1px 3px 1px rgba(60, 64, 67, 0.15);\n",
              "      fill: #174EA6;\n",
              "    }\n",
              "\n",
              "    [theme=dark] .colab-df-convert {\n",
              "      background-color: #3B4455;\n",
              "      fill: #D2E3FC;\n",
              "    }\n",
              "\n",
              "    [theme=dark] .colab-df-convert:hover {\n",
              "      background-color: #434B5C;\n",
              "      box-shadow: 0px 1px 3px 1px rgba(0, 0, 0, 0.15);\n",
              "      filter: drop-shadow(0px 1px 2px rgba(0, 0, 0, 0.3));\n",
              "      fill: #FFFFFF;\n",
              "    }\n",
              "  </style>\n",
              "\n",
              "      <script>\n",
              "        const buttonEl =\n",
              "          document.querySelector('#df-32582ce8-4239-442e-8d37-30cf0fc7ab61 button.colab-df-convert');\n",
              "        buttonEl.style.display =\n",
              "          google.colab.kernel.accessAllowed ? 'block' : 'none';\n",
              "\n",
              "        async function convertToInteractive(key) {\n",
              "          const element = document.querySelector('#df-32582ce8-4239-442e-8d37-30cf0fc7ab61');\n",
              "          const dataTable =\n",
              "            await google.colab.kernel.invokeFunction('convertToInteractive',\n",
              "                                                     [key], {});\n",
              "          if (!dataTable) return;\n",
              "\n",
              "          const docLinkHtml = 'Like what you see? Visit the ' +\n",
              "            '<a target=\"_blank\" href=https://colab.research.google.com/notebooks/data_table.ipynb>data table notebook</a>'\n",
              "            + ' to learn more about interactive tables.';\n",
              "          element.innerHTML = '';\n",
              "          dataTable['output_type'] = 'display_data';\n",
              "          await google.colab.output.renderOutput(dataTable, element);\n",
              "          const docLink = document.createElement('div');\n",
              "          docLink.innerHTML = docLinkHtml;\n",
              "          element.appendChild(docLink);\n",
              "        }\n",
              "      </script>\n",
              "    </div>\n",
              "  </div>\n",
              "  "
            ]
          },
          "metadata": {},
          "execution_count": 361
        }
      ],
      "source": [
        "pd.crosstab(y_test, y_predict, rownames=['Actual'], colnames=['Predicted'])"
      ]
    },
    {
      "cell_type": "code",
      "execution_count": null,
      "metadata": {
        "colab": {
          "base_uri": "https://localhost:8080/",
          "height": 302
        },
        "id": "xmkrKusxaPH0",
        "outputId": "f9b7d3cd-1c47-454d-f63a-1413d8638469"
      },
      "outputs": [
        {
          "output_type": "execute_result",
          "data": {
            "text/plain": [
              "Text(30.5, 0.5, 'actual')"
            ]
          },
          "metadata": {},
          "execution_count": 362
        },
        {
          "output_type": "display_data",
          "data": {
            "text/plain": [
              "<Figure size 432x288 with 2 Axes>"
            ],
            "image/png": "[encoded data removed]"
          },
          "metadata": {}
        }
      ],
      "source": [
        "cm = confusion_matrix(y_test, y_predict)\n",
        "sns.heatmap(cm, annot=True)\n",
        "plt.xlabel(\"predicted\")\n",
        "plt.ylabel(\"actual\")"
      ]
    },
    {
      "cell_type": "markdown",
      "metadata": {
        "id": "O0b7U1_h-oWj"
      },
      "source": [
        "**Learning Curve**\n",
        "\n",
        "Our learning curve for Decission Tree shows a high bias, underfitting. The difference between scores gets smaller as we increase the training set size. "
      ]
    },
    {
      "cell_type": "code",
      "execution_count": null,
      "metadata": {
        "id": "xYNmAkmr9kmx",
        "colab": {
          "base_uri": "https://localhost:8080/",
          "height": 318
        },
        "outputId": "132d2d13-88f9-4de7-d957-767cebd7ed67"
      },
      "outputs": [
        {
          "output_type": "execute_result",
          "data": {
            "text/plain": [
              "<matplotlib.legend.Legend at 0x7f0832b1bdf0>"
            ]
          },
          "metadata": {},
          "execution_count": 363
        },
        {
          "output_type": "display_data",
          "data": {
            "text/plain": [
              "<Figure size 432x288 with 1 Axes>"
            ],
            "image/png": "[encoded data removed]"
          },
          "metadata": {}
        }
      ],
      "source": [
        "train_sizes, train_scores, test_scores = learning_curve(clf, X_train, y_train, cv=10, scoring='accuracy')\n",
        "train_scores_mean = np.mean(train_scores, axis=1)\n",
        "test_scores = np.mean(test_scores, axis=1)\n",
        "\n",
        "\n",
        "plt.plot(train_sizes, train_scores_mean, label='Train')\n",
        "plt.plot(train_sizes, test_scores, label='Test')\n",
        "plt.title('Learning Curve: SVC Classification (Modified Subject_Race)')\n",
        "plt.xlabel('Train Set Size')\n",
        "plt.ylabel('Accuracy')\n",
        "plt.legend()"
      ]
    },
    {
      "cell_type": "markdown",
      "metadata": {
        "id": "ONhnPqwWS6eL"
      },
      "source": [
        "#Decision Tree Classification\n",
        "\n",
        "Now we will perform the Decision Tree model to determine if there is a difference in accuracy. "
      ]
    },
    {
      "cell_type": "code",
      "execution_count": null,
      "metadata": {
        "colab": {
          "base_uri": "https://localhost:8080/",
          "height": 460
        },
        "id": "RalRpJKvNyXC",
        "outputId": "4bc413df-f08e-4dbd-f934-197e57bca6cf"
      },
      "outputs": [
        {
          "output_type": "execute_result",
          "data": {
            "text/plain": [
              "<graphviz.files.Source at 0x7f08329c6b50>"
            ],
            "image/svg+xml": "<?xml version=\"1.0\" encoding=\"UTF-8\" standalone=\"no\"?>\n<!DOCTYPE svg PUBLIC \"-//W3C//DTD SVG 1.1//EN\"\n \"http://www.w3.org/Graphics/SVG/1.1/DTD/svg11.dtd\">\n<!-- Generated by graphviz version 2.43.0 (0)\n -->\n<!-- Title: Tree Pages: 1 -->\n<svg width=\"590pt\" height=\"314pt\"\n viewBox=\"0.00 0.00 590.00 314.00\" xmlns=\"http://www.w3.org/2000/svg\" xmlns:xlink=\"http://www.w3.org/1999/xlink\">\n<g id=\"graph0\" class=\"graph\" transform=\"scale(1 1) rotate(0) translate(4 310)\">\n<title>Tree</title>\n<polygon fill=\"white\" stroke=\"transparent\" points=\"-4,4 -4,-310 586,-310 586,4 -4,4\"/>\n<!-- 0 -->\n<g id=\"node1\" class=\"node\">\n<title>0</title>\n<path fill=\"#f7d7c0\" stroke=\"black\" d=\"M345,-306C345,-306 237,-306 237,-306 231,-306 225,-300 225,-294 225,-294 225,-235 225,-235 225,-229 231,-223 237,-223 237,-223 345,-223 345,-223 351,-223 357,-229 357,-235 357,-235 357,-294 357,-294 357,-300 351,-306 345,-306\"/>\n<text text-anchor=\"start\" x=\"233.5\" y=\"-290.8\" font-family=\"Helvetica,sans-Serif\" font-size=\"14.00\">subject_age ≤ 25.5</text>\n<text text-anchor=\"start\" x=\"259\" y=\"-275.8\" font-family=\"Helvetica,sans-Serif\" font-size=\"14.00\">gini = 0.48</text>\n<text text-anchor=\"start\" x=\"234\" y=\"-260.8\" font-family=\"Helvetica,sans-Serif\" font-size=\"14.00\">samples = 100.0%</text>\n<text text-anchor=\"start\" x=\"233\" y=\"-245.8\" font-family=\"Helvetica,sans-Serif\" font-size=\"14.00\">value = [0.59, 0.41]</text>\n<text text-anchor=\"start\" x=\"251.5\" y=\"-230.8\" font-family=\"Helvetica,sans-Serif\" font-size=\"14.00\">class = white</text>\n</g>\n<!-- 1 -->\n<g id=\"node2\" class=\"node\">\n<title>1</title>\n<path fill=\"#f1bc96\" stroke=\"black\" d=\"M270,-187C270,-187 162,-187 162,-187 156,-187 150,-181 150,-175 150,-175 150,-116 150,-116 150,-110 156,-104 162,-104 162,-104 270,-104 270,-104 276,-104 282,-110 282,-116 282,-116 282,-175 282,-175 282,-181 276,-187 270,-187\"/>\n<text text-anchor=\"start\" x=\"158.5\" y=\"-171.8\" font-family=\"Helvetica,sans-Serif\" font-size=\"14.00\">subject_age ≤ 17.5</text>\n<text text-anchor=\"start\" x=\"184\" y=\"-156.8\" font-family=\"Helvetica,sans-Serif\" font-size=\"14.00\">gini = 0.43</text>\n<text text-anchor=\"start\" x=\"163\" y=\"-141.8\" font-family=\"Helvetica,sans-Serif\" font-size=\"14.00\">samples = 21.3%</text>\n<text text-anchor=\"start\" x=\"158\" y=\"-126.8\" font-family=\"Helvetica,sans-Serif\" font-size=\"14.00\">value = [0.68, 0.32]</text>\n<text text-anchor=\"start\" x=\"176.5\" y=\"-111.8\" font-family=\"Helvetica,sans-Serif\" font-size=\"14.00\">class = white</text>\n</g>\n<!-- 0&#45;&gt;1 -->\n<g id=\"edge1\" class=\"edge\">\n<title>0&#45;&gt;1</title>\n<path fill=\"none\" stroke=\"black\" d=\"M264.98,-222.91C259.34,-214.1 253.31,-204.7 247.48,-195.61\"/>\n<polygon fill=\"black\" stroke=\"black\" points=\"250.32,-193.55 241.97,-187.02 244.43,-197.33 250.32,-193.55\"/>\n<text text-anchor=\"middle\" x=\"236.63\" y=\"-207.74\" font-family=\"Helvetica,sans-Serif\" font-size=\"14.00\">True</text>\n</g>\n<!-- 4 -->\n<g id=\"node5\" class=\"node\">\n<title>4</title>\n<path fill=\"#f8dfcd\" stroke=\"black\" d=\"M420,-187C420,-187 312,-187 312,-187 306,-187 300,-181 300,-175 300,-175 300,-116 300,-116 300,-110 306,-104 312,-104 312,-104 420,-104 420,-104 426,-104 432,-110 432,-116 432,-116 432,-175 432,-175 432,-181 426,-187 420,-187\"/>\n<text text-anchor=\"start\" x=\"308.5\" y=\"-171.8\" font-family=\"Helvetica,sans-Serif\" font-size=\"14.00\">subject_age ≤ 59.5</text>\n<text text-anchor=\"start\" x=\"334\" y=\"-156.8\" font-family=\"Helvetica,sans-Serif\" font-size=\"14.00\">gini = 0.49</text>\n<text text-anchor=\"start\" x=\"313\" y=\"-141.8\" font-family=\"Helvetica,sans-Serif\" font-size=\"14.00\">samples = 78.7%</text>\n<text text-anchor=\"start\" x=\"308\" y=\"-126.8\" font-family=\"Helvetica,sans-Serif\" font-size=\"14.00\">value = [0.57, 0.43]</text>\n<text text-anchor=\"start\" x=\"326.5\" y=\"-111.8\" font-family=\"Helvetica,sans-Serif\" font-size=\"14.00\">class = white</text>\n</g>\n<!-- 0&#45;&gt;4 -->\n<g id=\"edge4\" class=\"edge\">\n<title>0&#45;&gt;4</title>\n<path fill=\"none\" stroke=\"black\" d=\"M317.02,-222.91C322.66,-214.1 328.69,-204.7 334.52,-195.61\"/>\n<polygon fill=\"black\" stroke=\"black\" points=\"337.57,-197.33 340.03,-187.02 331.68,-193.55 337.57,-197.33\"/>\n<text text-anchor=\"middle\" x=\"345.37\" y=\"-207.74\" font-family=\"Helvetica,sans-Serif\" font-size=\"14.00\">False</text>\n</g>\n<!-- 2 -->\n<g id=\"node3\" class=\"node\">\n<title>2</title>\n<path fill=\"#d3e9f9\" stroke=\"black\" d=\"M120,-68C120,-68 12,-68 12,-68 6,-68 0,-62 0,-56 0,-56 0,-12 0,-12 0,-6 6,0 12,0 12,0 120,0 120,0 126,0 132,-6 132,-12 132,-12 132,-56 132,-56 132,-62 126,-68 120,-68\"/>\n<text text-anchor=\"start\" x=\"34\" y=\"-52.8\" font-family=\"Helvetica,sans-Serif\" font-size=\"14.00\">gini = 0.49</text>\n<text text-anchor=\"start\" x=\"16.5\" y=\"-37.8\" font-family=\"Helvetica,sans-Serif\" font-size=\"14.00\">samples = 0.5%</text>\n<text text-anchor=\"start\" x=\"8\" y=\"-22.8\" font-family=\"Helvetica,sans-Serif\" font-size=\"14.00\">value = [0.44, 0.56]</text>\n<text text-anchor=\"start\" x=\"27\" y=\"-7.8\" font-family=\"Helvetica,sans-Serif\" font-size=\"14.00\">class = other</text>\n</g>\n<!-- 1&#45;&gt;2 -->\n<g id=\"edge2\" class=\"edge\">\n<title>1&#45;&gt;2</title>\n<path fill=\"none\" stroke=\"black\" d=\"M160.15,-103.73C147.03,-94.15 133.07,-83.96 120.03,-74.44\"/>\n<polygon fill=\"black\" stroke=\"black\" points=\"121.76,-71.37 111.62,-68.3 117.63,-77.02 121.76,-71.37\"/>\n</g>\n<!-- 3 -->\n<g id=\"node4\" class=\"node\">\n<title>3</title>\n<path fill=\"#f1bb94\" stroke=\"black\" d=\"M270,-68C270,-68 162,-68 162,-68 156,-68 150,-62 150,-56 150,-56 150,-12 150,-12 150,-6 156,0 162,0 162,0 270,0 270,0 276,0 282,-6 282,-12 282,-12 282,-56 282,-56 282,-62 276,-68 270,-68\"/>\n<text text-anchor=\"start\" x=\"184\" y=\"-52.8\" font-family=\"Helvetica,sans-Serif\" font-size=\"14.00\">gini = 0.43</text>\n<text text-anchor=\"start\" x=\"163\" y=\"-37.8\" font-family=\"Helvetica,sans-Serif\" font-size=\"14.00\">samples = 20.8%</text>\n<text text-anchor=\"start\" x=\"158\" y=\"-22.8\" font-family=\"Helvetica,sans-Serif\" font-size=\"14.00\">value = [0.69, 0.31]</text>\n<text text-anchor=\"start\" x=\"176.5\" y=\"-7.8\" font-family=\"Helvetica,sans-Serif\" font-size=\"14.00\">class = white</text>\n</g>\n<!-- 1&#45;&gt;3 -->\n<g id=\"edge3\" class=\"edge\">\n<title>1&#45;&gt;3</title>\n<path fill=\"none\" stroke=\"black\" d=\"M216,-103.73C216,-95.52 216,-86.86 216,-78.56\"/>\n<polygon fill=\"black\" stroke=\"black\" points=\"219.5,-78.3 216,-68.3 212.5,-78.3 219.5,-78.3\"/>\n</g>\n<!-- 5 -->\n<g id=\"node6\" class=\"node\">\n<title>5</title>\n<path fill=\"#f8dbc7\" stroke=\"black\" d=\"M420,-68C420,-68 312,-68 312,-68 306,-68 300,-62 300,-56 300,-56 300,-12 300,-12 300,-6 306,0 312,0 312,0 420,0 420,0 426,0 432,-6 432,-12 432,-12 432,-56 432,-56 432,-62 426,-68 420,-68\"/>\n<text text-anchor=\"start\" x=\"334\" y=\"-52.8\" font-family=\"Helvetica,sans-Serif\" font-size=\"14.00\">gini = 0.49</text>\n<text text-anchor=\"start\" x=\"313\" y=\"-37.8\" font-family=\"Helvetica,sans-Serif\" font-size=\"14.00\">samples = 71.1%</text>\n<text text-anchor=\"start\" x=\"308\" y=\"-22.8\" font-family=\"Helvetica,sans-Serif\" font-size=\"14.00\">value = [0.58, 0.42]</text>\n<text text-anchor=\"start\" x=\"326.5\" y=\"-7.8\" font-family=\"Helvetica,sans-Serif\" font-size=\"14.00\">class = white</text>\n</g>\n<!-- 4&#45;&gt;5 -->\n<g id=\"edge5\" class=\"edge\">\n<title>4&#45;&gt;5</title>\n<path fill=\"none\" stroke=\"black\" d=\"M366,-103.73C366,-95.52 366,-86.86 366,-78.56\"/>\n<polygon fill=\"black\" stroke=\"black\" points=\"369.5,-78.3 366,-68.3 362.5,-78.3 369.5,-78.3\"/>\n</g>\n<!-- 6 -->\n<g id=\"node7\" class=\"node\">\n<title>6</title>\n<path fill=\"#ebf5fc\" stroke=\"black\" d=\"M570,-68C570,-68 462,-68 462,-68 456,-68 450,-62 450,-56 450,-56 450,-12 450,-12 450,-6 456,0 462,0 462,0 570,0 570,0 576,0 582,-6 582,-12 582,-12 582,-56 582,-56 582,-62 576,-68 570,-68\"/>\n<text text-anchor=\"start\" x=\"488\" y=\"-52.8\" font-family=\"Helvetica,sans-Serif\" font-size=\"14.00\">gini = 0.5</text>\n<text text-anchor=\"start\" x=\"466.5\" y=\"-37.8\" font-family=\"Helvetica,sans-Serif\" font-size=\"14.00\">samples = 7.7%</text>\n<text text-anchor=\"start\" x=\"458\" y=\"-22.8\" font-family=\"Helvetica,sans-Serif\" font-size=\"14.00\">value = [0.47, 0.53]</text>\n<text text-anchor=\"start\" x=\"477\" y=\"-7.8\" font-family=\"Helvetica,sans-Serif\" font-size=\"14.00\">class = other</text>\n</g>\n<!-- 4&#45;&gt;6 -->\n<g id=\"edge6\" class=\"edge\">\n<title>4&#45;&gt;6</title>\n<path fill=\"none\" stroke=\"black\" d=\"M421.85,-103.73C434.97,-94.15 448.93,-83.96 461.97,-74.44\"/>\n<polygon fill=\"black\" stroke=\"black\" points=\"464.37,-77.02 470.38,-68.3 460.24,-71.37 464.37,-77.02\"/>\n</g>\n</g>\n</svg>\n"
          },
          "metadata": {},
          "execution_count": 364
        }
      ],
      "source": [
        "predictors = ['outcome', 'subject_age']\n",
        "X = other_df[predictors].values\n",
        "y = other_df['subject_race'].values\n",
        "\n",
        "indexes = np.random.choice(y.size, size=5000)\n",
        "X_mini = X[indexes]\n",
        "y_mini = y[indexes]\n",
        "\n",
        "X_train, X_test, y_train, y_test = train_test_split(X_mini, y_mini, test_size=0.30, random_state=0)\n",
        "\n",
        "clf = DecisionTreeClassifier(max_depth = 2, random_state=0)\n",
        "clf.fit(X_train, y_train)\n",
        "y_predict = clf.predict(X_test)\n",
        "\n",
        "target_names = ['white','other']\n",
        "n = export_graphviz(clf,precision=2, feature_names=predictors, proportion=True, class_names=target_names, filled=True, rounded=True, special_characters=True)\n",
        "graph = graphviz.Source(n)\n",
        "graph"
      ]
    },
    {
      "cell_type": "markdown",
      "metadata": {
        "id": "asQOjfW5XKVq"
      },
      "source": [
        "**Accuracy**\n",
        "\n",
        "Our accuracy score showed a huge improvement from the prevous models. "
      ]
    },
    {
      "cell_type": "code",
      "execution_count": null,
      "metadata": {
        "colab": {
          "base_uri": "https://localhost:8080/"
        },
        "id": "ySMwwOkBOKLk",
        "outputId": "5174faaa-2747-4301-8b95-ab3538b5c147"
      },
      "outputs": [
        {
          "output_type": "stream",
          "name": "stdout",
          "text": [
            "Accuracy: 0.58\n"
          ]
        }
      ],
      "source": [
        "print('Accuracy: {:.2f}'.format((y_predict == y_test).mean()))\n"
      ]
    },
    {
      "cell_type": "markdown",
      "metadata": {
        "id": "b8tIxLLMZELf"
      },
      "source": [
        "**Confusion Matrix**\n"
      ]
    },
    {
      "cell_type": "code",
      "execution_count": null,
      "metadata": {
        "colab": {
          "base_uri": "https://localhost:8080/",
          "height": 143
        },
        "id": "bDiPxJckY-7T",
        "outputId": "60fc11c8-0c9e-4ba0-ec68-873171bc9c82"
      },
      "outputs": [
        {
          "output_type": "execute_result",
          "data": {
            "text/plain": [
              "Predicted    0   1\n",
              "Actual            \n",
              "0          817  66\n",
              "1          563  54"
            ],
            "text/html": [
              "\n",
              "  <div id=\"df-2d4f7627-2f78-49d4-a7cb-0dc2ec04dc2d\">\n",
              "    <div class=\"colab-df-container\">\n",
              "      <div>\n",
              "<style scoped>\n",
              "    .dataframe tbody tr th:only-of-type {\n",
              "        vertical-align: middle;\n",
              "    }\n",
              "\n",
              "    .dataframe tbody tr th {\n",
              "        vertical-align: top;\n",
              "    }\n",
              "\n",
              "    .dataframe thead th {\n",
              "        text-align: right;\n",
              "    }\n",
              "</style>\n",
              "<table border=\"1\" class=\"dataframe\">\n",
              "  <thead>\n",
              "    <tr style=\"text-align: right;\">\n",
              "      <th>Predicted</th>\n",
              "      <th>0</th>\n",
              "      <th>1</th>\n",
              "    </tr>\n",
              "    <tr>\n",
              "      <th>Actual</th>\n",
              "      <th></th>\n",
              "      <th></th>\n",
              "    </tr>\n",
              "  </thead>\n",
              "  <tbody>\n",
              "    <tr>\n",
              "      <th>0</th>\n",
              "      <td>817</td>\n",
              "      <td>66</td>\n",
              "    </tr>\n",
              "    <tr>\n",
              "      <th>1</th>\n",
              "      <td>563</td>\n",
              "      <td>54</td>\n",
              "    </tr>\n",
              "  </tbody>\n",
              "</table>\n",
              "</div>\n",
              "      <button class=\"colab-df-convert\" onclick=\"convertToInteractive('df-2d4f7627-2f78-49d4-a7cb-0dc2ec04dc2d')\"\n",
              "              title=\"Convert this dataframe to an interactive table.\"\n",
              "              style=\"display:none;\">\n",
              "        \n",
              "  <svg xmlns=\"http://www.w3.org/2000/svg\" height=\"24px\"viewBox=\"0 0 24 24\"\n",
              "       width=\"24px\">\n",
              "    <path d=\"M0 0h24v24H0V0z\" fill=\"none\"/>\n",
              "    <path d=\"M18.56 5.44l.94 2.06.94-2.06 2.06-.94-2.06-.94-.94-2.06-.94 2.06-2.06.94zm-11 1L8.5 8.5l.94-2.06 2.06-.94-2.06-.94L8.5 2.5l-.94 2.06-2.06.94zm10 10l.94 2.06.94-2.06 2.06-.94-2.06-.94-.94-2.06-.94 2.06-2.06.94z\"/><path d=\"M17.41 7.96l-1.37-1.37c-.4-.4-.92-.59-1.43-.59-.52 0-1.04.2-1.43.59L10.3 9.45l-7.72 7.72c-.78.78-.78 2.05 0 2.83L4 21.41c.39.39.9.59 1.41.59.51 0 1.02-.2 1.41-.59l7.78-7.78 2.81-2.81c.8-.78.8-2.07 0-2.86zM5.41 20L4 18.59l7.72-7.72 1.47 1.35L5.41 20z\"/>\n",
              "  </svg>\n",
              "      </button>\n",
              "      \n",
              "  <style>\n",
              "    .colab-df-container {\n",
              "      display:flex;\n",
              "      flex-wrap:wrap;\n",
              "      gap: 12px;\n",
              "    }\n",
              "\n",
              "    .colab-df-convert {\n",
              "      background-color: #E8F0FE;\n",
              "      border: none;\n",
              "      border-radius: 50%;\n",
              "      cursor: pointer;\n",
              "      display: none;\n",
              "      fill: #1967D2;\n",
              "      height: 32px;\n",
              "      padding: 0 0 0 0;\n",
              "      width: 32px;\n",
              "    }\n",
              "\n",
              "    .colab-df-convert:hover {\n",
              "      background-color: #E2EBFA;\n",
              "      box-shadow: 0px 1px 2px rgba(60, 64, 67, 0.3), 0px 1px 3px 1px rgba(60, 64, 67, 0.15);\n",
              "      fill: #174EA6;\n",
              "    }\n",
              "\n",
              "    [theme=dark] .colab-df-convert {\n",
              "      background-color: #3B4455;\n",
              "      fill: #D2E3FC;\n",
              "    }\n",
              "\n",
              "    [theme=dark] .colab-df-convert:hover {\n",
              "      background-color: #434B5C;\n",
              "      box-shadow: 0px 1px 3px 1px rgba(0, 0, 0, 0.15);\n",
              "      filter: drop-shadow(0px 1px 2px rgba(0, 0, 0, 0.3));\n",
              "      fill: #FFFFFF;\n",
              "    }\n",
              "  </style>\n",
              "\n",
              "      <script>\n",
              "        const buttonEl =\n",
              "          document.querySelector('#df-2d4f7627-2f78-49d4-a7cb-0dc2ec04dc2d button.colab-df-convert');\n",
              "        buttonEl.style.display =\n",
              "          google.colab.kernel.accessAllowed ? 'block' : 'none';\n",
              "\n",
              "        async function convertToInteractive(key) {\n",
              "          const element = document.querySelector('#df-2d4f7627-2f78-49d4-a7cb-0dc2ec04dc2d');\n",
              "          const dataTable =\n",
              "            await google.colab.kernel.invokeFunction('convertToInteractive',\n",
              "                                                     [key], {});\n",
              "          if (!dataTable) return;\n",
              "\n",
              "          const docLinkHtml = 'Like what you see? Visit the ' +\n",
              "            '<a target=\"_blank\" href=https://colab.research.google.com/notebooks/data_table.ipynb>data table notebook</a>'\n",
              "            + ' to learn more about interactive tables.';\n",
              "          element.innerHTML = '';\n",
              "          dataTable['output_type'] = 'display_data';\n",
              "          await google.colab.output.renderOutput(dataTable, element);\n",
              "          const docLink = document.createElement('div');\n",
              "          docLink.innerHTML = docLinkHtml;\n",
              "          element.appendChild(docLink);\n",
              "        }\n",
              "      </script>\n",
              "    </div>\n",
              "  </div>\n",
              "  "
            ]
          },
          "metadata": {},
          "execution_count": 366
        }
      ],
      "source": [
        "pd.crosstab(y_test, y_predict, rownames=['Actual'], colnames=['Predicted'])"
      ]
    },
    {
      "cell_type": "code",
      "execution_count": null,
      "metadata": {
        "colab": {
          "base_uri": "https://localhost:8080/",
          "height": 302
        },
        "id": "SBfmfZfxZIS3",
        "outputId": "ece38f4c-1099-4242-c4e5-45e069d25940"
      },
      "outputs": [
        {
          "output_type": "execute_result",
          "data": {
            "text/plain": [
              "Text(30.5, 0.5, 'actual')"
            ]
          },
          "metadata": {},
          "execution_count": 367
        },
        {
          "output_type": "display_data",
          "data": {
            "text/plain": [
              "<Figure size 432x288 with 2 Axes>"
            ],
            "image/png": "[encoded data removed]"
          },
          "metadata": {}
        }
      ],
      "source": [
        "cm = confusion_matrix(y_test, y_predict)\n",
        "sns.heatmap(cm, annot=True)\n",
        "plt.xlabel(\"predicted\")\n",
        "plt.ylabel(\"actual\")"
      ]
    },
    {
      "cell_type": "markdown",
      "metadata": {
        "id": "5b_pKFq0-rA4"
      },
      "source": [
        "**Learning Curve**\n",
        "\n",
        "Our learning curve for Decission Tree shows a high bias, underfitting. We see a drop in the accuracy score for the test score between train set size between 200-800. "
      ]
    },
    {
      "cell_type": "code",
      "execution_count": null,
      "metadata": {
        "id": "sSdna5Vh9tOW",
        "colab": {
          "base_uri": "https://localhost:8080/",
          "height": 318
        },
        "outputId": "0624913f-937e-4a2d-ad0a-46771f6c885a"
      },
      "outputs": [
        {
          "output_type": "execute_result",
          "data": {
            "text/plain": [
              "<matplotlib.legend.Legend at 0x7f0832974c10>"
            ]
          },
          "metadata": {},
          "execution_count": 368
        },
        {
          "output_type": "display_data",
          "data": {
            "text/plain": [
              "<Figure size 432x288 with 1 Axes>"
            ],
            "image/png": "[encoded data removed]"
          },
          "metadata": {}
        }
      ],
      "source": [
        "train_sizes, train_scores, test_scores = learning_curve(clf, X_train, y_train, cv=10, scoring='accuracy')\n",
        "train_scores_mean = np.mean(train_scores, axis=1)\n",
        "test_scores = np.mean(test_scores, axis=1)\n",
        "\n",
        "\n",
        "plt.plot(train_sizes, train_scores_mean, label='Train')\n",
        "plt.plot(train_sizes, test_scores, label='Test')\n",
        "plt.title('Learning Curve: Decision Tree Classification (Modified Subject_Race)')\n",
        "plt.xlabel('Train Set Size')\n",
        "plt.ylabel('Accuracy')\n",
        "plt.legend()"
      ]
    },
    {
      "cell_type": "markdown",
      "metadata": {
        "id": "XvgYUwqT2I3R"
      },
      "source": [
        "#Summary\n",
        "\n",
        "For this project we used three different models: KNN, Decision Tree, and SVC. There was a total of 6 observations. In the first three observations we used all races in the dataset ('asian/pacific islander', 'black','hispanic', 'white', 'other'). We noticed a low accuracy scores for these models. There was a slight improvement in accuracy score when we used the Decision Tree and SVC models but overall scores remained below 50%. \n",
        "\n",
        "Based on the distrubution of race on the dataset, we wanted to see how the models would predict if the subject was White or another race. This led us to conduct 3 additional observations. To do this we combined all the other races that are not Black and performed the same three models. Our accuracy scores improved from tuning our data and obtained scores higher than 50%. The Decision Tree model gave us the best accuracy score. \n",
        "\n",
        "Apart from our models we also examined the effect of features. We noticed that increasing the number of predictor features did not improve our accuracy score.We also saw how increasing the training set size did not improve our test accuracy score. In addition, we saw cases of both overfitting and underfitting in our learning curves. \n",
        "\n",
        "Our project's objective was to see if we can predict the subject's race based on two features, outcome and subject age. Based on our models, our results show that there is a better chance of predicting if the subject is either White or another race. "
      ]
    }
  ],
  "metadata": {
    "colab": {
      "provenance": [],
      "include_colab_link": true
    },
    "kernelspec": {
      "display_name": "Python 3",
      "name": "python3"
    },
    "language_info": {
      "name": "python"
    }
  },
  "nbformat": 4,
  "nbformat_minor": 0
}